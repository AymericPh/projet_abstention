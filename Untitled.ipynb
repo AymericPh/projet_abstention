{
 "cells": [
  {
   "cell_type": "code",
   "execution_count": 1,
   "id": "04ec5bfe",
   "metadata": {},
   "outputs": [],
   "source": [
    "import smtplib\n",
    "import ssl\n"
   ]
  },
  {
   "cell_type": "code",
   "execution_count": 33,
   "id": "6977ed51",
   "metadata": {},
   "outputs": [],
   "source": [
    "def mail_spam(n):\n",
    "\n",
    "    smtp_address = 'smtp.gmail.com'\n",
    "    \n",
    "    smtp_port = 465\n",
    "\n",
    "    email_address = 'barnabemerlin14@gmail.com'\n",
    "    email_password = 'Rctoulon12'\n",
    "\n",
    "    email_receiver = 'barnabe.merlin@ensae.fr'\n",
    "    \n",
    "    for i in range(n):\n",
    "        context = ssl.create_default_context()\n",
    "        with smtplib.SMTP_SSL(smtp_address, smtp_port, context=context) as server:\n",
    "            server.login(email_address, email_password)\n",
    "            server.sendmail(email_address, email_receiver, 'Pissette baisse ta fifre !')\n",
    "            \n",
    "            \n",
    "            "
   ]
  },
  {
   "cell_type": "code",
   "execution_count": 34,
   "id": "26d9a851",
   "metadata": {},
   "outputs": [],
   "source": [
    "mail_spam(3)"
   ]
  },
  {
   "cell_type": "code",
   "execution_count": 19,
   "id": "a72c25fd",
   "metadata": {},
   "outputs": [
    {
     "name": "stdout",
     "output_type": "stream",
     "text": [
      "0\n",
      "1\n",
      "2\n"
     ]
    }
   ],
   "source": [
    "for i in range(3): \n",
    "    print(i)"
   ]
  },
  {
   "cell_type": "code",
   "execution_count": null,
   "id": "143ffa8f",
   "metadata": {},
   "outputs": [],
   "source": []
  }
 ],
 "metadata": {
  "kernelspec": {
   "display_name": "Python 3",
   "language": "python",
   "name": "python3"
  },
  "language_info": {
   "codemirror_mode": {
    "name": "ipython",
    "version": 3
   },
   "file_extension": ".py",
   "mimetype": "text/x-python",
   "name": "python",
   "nbconvert_exporter": "python",
   "pygments_lexer": "ipython3",
   "version": "3.8.8"
  }
 },
 "nbformat": 4,
 "nbformat_minor": 5
}
