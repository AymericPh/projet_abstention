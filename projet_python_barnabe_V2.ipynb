{
 "cells": [
  {
   "cell_type": "markdown",
   "id": "c1e00401",
   "metadata": {},
   "source": [
    "# I Lecture des fichiers excel"
   ]
  },
  {
   "cell_type": "markdown",
   "id": "813353b5",
   "metadata": {},
   "source": [
    "## Première tentative de code de lecture"
   ]
  },
  {
   "cell_type": "code",
   "execution_count": 1,
   "id": "65c2b56d",
   "metadata": {},
   "outputs": [],
   "source": [
    "import pandas as pd\n",
    "import numpy as np\n",
    "from math import *\n",
    "import statistics"
   ]
  },
  {
   "cell_type": "code",
   "execution_count": 2,
   "id": "f542748b",
   "metadata": {},
   "outputs": [
    {
     "name": "stdout",
     "output_type": "stream",
     "text": [
      "Requirement already satisfied: xlrd in /opt/anaconda3/lib/python3.8/site-packages (2.0.1)\n",
      "Note: you may need to restart the kernel to use updated packages.\n"
     ]
    }
   ],
   "source": [
    "pip install xlrd"
   ]
  },
  {
   "cell_type": "code",
   "execution_count": 3,
   "id": "96e3c13c",
   "metadata": {},
   "outputs": [],
   "source": [
    "import xlrd"
   ]
  },
  {
   "cell_type": "code",
   "execution_count": 4,
   "id": "ddba00e9",
   "metadata": {},
   "outputs": [
    {
     "ename": "FileNotFoundError",
     "evalue": "[Errno 2] No such file or directory: 'participation_2012_datagouv.xls'",
     "output_type": "error",
     "traceback": [
      "\u001b[0;31m---------------------------------------------------------------------------\u001b[0m",
      "\u001b[0;31mFileNotFoundError\u001b[0m                         Traceback (most recent call last)",
      "\u001b[0;32m<ipython-input-4-f0c2e4841dbf>\u001b[0m in \u001b[0;36m<module>\u001b[0;34m\u001b[0m\n\u001b[0;32m----> 1\u001b[0;31m \u001b[0mpres_2012\u001b[0m \u001b[0;34m=\u001b[0m \u001b[0mxlrd\u001b[0m\u001b[0;34m.\u001b[0m\u001b[0mopen_workbook\u001b[0m\u001b[0;34m(\u001b[0m\u001b[0;34m'participation_2012_datagouv.xls'\u001b[0m\u001b[0;34m)\u001b[0m\u001b[0;34m\u001b[0m\u001b[0;34m\u001b[0m\u001b[0m\n\u001b[0m",
      "\u001b[0;32m/opt/anaconda3/lib/python3.8/site-packages/xlrd/__init__.py\u001b[0m in \u001b[0;36mopen_workbook\u001b[0;34m(filename, logfile, verbosity, use_mmap, file_contents, encoding_override, formatting_info, on_demand, ragged_rows, ignore_workbook_corruption)\u001b[0m\n\u001b[1;32m    164\u001b[0m     \"\"\"\n\u001b[1;32m    165\u001b[0m \u001b[0;34m\u001b[0m\u001b[0m\n\u001b[0;32m--> 166\u001b[0;31m     \u001b[0mfile_format\u001b[0m \u001b[0;34m=\u001b[0m \u001b[0minspect_format\u001b[0m\u001b[0;34m(\u001b[0m\u001b[0mfilename\u001b[0m\u001b[0;34m,\u001b[0m \u001b[0mfile_contents\u001b[0m\u001b[0;34m)\u001b[0m\u001b[0;34m\u001b[0m\u001b[0;34m\u001b[0m\u001b[0m\n\u001b[0m\u001b[1;32m    167\u001b[0m     \u001b[0;31m# We have to let unknown file formats pass through here, as some ancient\u001b[0m\u001b[0;34m\u001b[0m\u001b[0;34m\u001b[0m\u001b[0;34m\u001b[0m\u001b[0m\n\u001b[1;32m    168\u001b[0m     \u001b[0;31m# files that xlrd can parse don't start with the expected signature.\u001b[0m\u001b[0;34m\u001b[0m\u001b[0;34m\u001b[0m\u001b[0;34m\u001b[0m\u001b[0m\n",
      "\u001b[0;32m/opt/anaconda3/lib/python3.8/site-packages/xlrd/__init__.py\u001b[0m in \u001b[0;36minspect_format\u001b[0;34m(path, content)\u001b[0m\n\u001b[1;32m     58\u001b[0m     \u001b[0;32melse\u001b[0m\u001b[0;34m:\u001b[0m\u001b[0;34m\u001b[0m\u001b[0;34m\u001b[0m\u001b[0m\n\u001b[1;32m     59\u001b[0m         \u001b[0mpath\u001b[0m \u001b[0;34m=\u001b[0m \u001b[0mos\u001b[0m\u001b[0;34m.\u001b[0m\u001b[0mpath\u001b[0m\u001b[0;34m.\u001b[0m\u001b[0mexpanduser\u001b[0m\u001b[0;34m(\u001b[0m\u001b[0mpath\u001b[0m\u001b[0;34m)\u001b[0m\u001b[0;34m\u001b[0m\u001b[0;34m\u001b[0m\u001b[0m\n\u001b[0;32m---> 60\u001b[0;31m         \u001b[0;32mwith\u001b[0m \u001b[0mopen\u001b[0m\u001b[0;34m(\u001b[0m\u001b[0mpath\u001b[0m\u001b[0;34m,\u001b[0m \u001b[0;34m\"rb\"\u001b[0m\u001b[0;34m)\u001b[0m \u001b[0;32mas\u001b[0m \u001b[0mf\u001b[0m\u001b[0;34m:\u001b[0m\u001b[0;34m\u001b[0m\u001b[0;34m\u001b[0m\u001b[0m\n\u001b[0m\u001b[1;32m     61\u001b[0m             \u001b[0mpeek\u001b[0m \u001b[0;34m=\u001b[0m \u001b[0mf\u001b[0m\u001b[0;34m.\u001b[0m\u001b[0mread\u001b[0m\u001b[0;34m(\u001b[0m\u001b[0mPEEK_SIZE\u001b[0m\u001b[0;34m)\u001b[0m\u001b[0;34m\u001b[0m\u001b[0;34m\u001b[0m\u001b[0m\n\u001b[1;32m     62\u001b[0m \u001b[0;34m\u001b[0m\u001b[0m\n",
      "\u001b[0;31mFileNotFoundError\u001b[0m: [Errno 2] No such file or directory: 'participation_2012_datagouv.xls'"
     ]
    }
   ],
   "source": [
    "pres_2012 = xlrd.open_workbook('participation_2012_datagouv.xls')"
   ]
  },
  {
   "cell_type": "code",
   "execution_count": null,
   "id": "319e05f3",
   "metadata": {},
   "outputs": [],
   "source": [
    "print(\"Nombre de feuilles: \"+str(pres_2012.nsheets))\n",
    "print(\"Nombre de feuilles: \"+str(pres_2012.sheet_names()))"
   ]
  },
  {
   "cell_type": "code",
   "execution_count": null,
   "id": "6c01d0a6",
   "metadata": {},
   "outputs": [],
   "source": [
    "dep_t1 = pres_2012.sheet_by_name(\"Départements T1\")"
   ]
  },
  {
   "cell_type": "code",
   "execution_count": null,
   "id": "296604f3",
   "metadata": {},
   "outputs": [],
   "source": [
    "print(\"Format de la feuille 1:\")\n",
    "print(\"Nom: \"+str(dep_t1.name))\n",
    "print(\"Nombre de lignes: \"+str(dep_t1.nrows))\n",
    "print(\"Nombre de colonnes: \"+str(dep_t1.ncols))"
   ]
  },
  {
   "cell_type": "code",
   "execution_count": null,
   "id": "e606a557",
   "metadata": {},
   "outputs": [],
   "source": [
    "cols_dep_t1 = dep_t1.ncols\n",
    "rows = dep_t1.nrows"
   ]
  },
  {
   "cell_type": "markdown",
   "id": "0c37735b",
   "metadata": {},
   "source": [
    "N'aboutit pas (je n'arrive pas à me balader dans le fichier excel)"
   ]
  },
  {
   "cell_type": "markdown",
   "id": "2e6fb93f",
   "metadata": {},
   "source": [
    "### Deuxième tentative de code de lecture moins puissant"
   ]
  },
  {
   "cell_type": "markdown",
   "id": "53325cdf",
   "metadata": {},
   "source": [
    "On tire l'abstention par département pour la présidentielle de 2012 au tour 1 et au tour 2"
   ]
  },
  {
   "cell_type": "code",
   "execution_count": 9,
   "id": "eb6f5ffc",
   "metadata": {},
   "outputs": [],
   "source": [
    "presi_2012 = pd.read_excel('participation_2012_datagouv.xls')"
   ]
  },
  {
   "cell_type": "code",
   "execution_count": 10,
   "id": "6b20f1a0",
   "metadata": {},
   "outputs": [],
   "source": [
    "xls = pd.ExcelFile('participation_2012_datagouv.xls')"
   ]
  },
  {
   "cell_type": "code",
   "execution_count": 11,
   "id": "e163f95c",
   "metadata": {},
   "outputs": [
    {
     "data": {
      "text/plain": [
       "['France entière T1T2',\n",
       " 'Régions T1',\n",
       " 'Régions T2',\n",
       " 'Départements T1',\n",
       " 'Départements T2',\n",
       " 'Circo leg T1',\n",
       " 'Circo leg T2',\n",
       " 'Cantons T1',\n",
       " 'Cantons T2']"
      ]
     },
     "execution_count": 11,
     "metadata": {},
     "output_type": "execute_result"
    }
   ],
   "source": [
    "xls.sheet_names"
   ]
  },
  {
   "cell_type": "code",
   "execution_count": 12,
   "id": "cc8a5169",
   "metadata": {},
   "outputs": [],
   "source": [
    "depa_t1_2012 = pd.read_excel('participation_2012_datagouv.xls', sheet_name = \"Départements T1\")\n",
    "depa_t2_2012 = pd.read_excel('participation_2012_datagouv.xls', sheet_name = \"Départements T2\")"
   ]
  },
  {
   "cell_type": "code",
   "execution_count": 13,
   "id": "8aaebd8f",
   "metadata": {},
   "outputs": [
    {
     "data": {
      "text/html": [
       "<div>\n",
       "<style scoped>\n",
       "    .dataframe tbody tr th:only-of-type {\n",
       "        vertical-align: middle;\n",
       "    }\n",
       "\n",
       "    .dataframe tbody tr th {\n",
       "        vertical-align: top;\n",
       "    }\n",
       "\n",
       "    .dataframe thead th {\n",
       "        text-align: right;\n",
       "    }\n",
       "</style>\n",
       "<table border=\"1\" class=\"dataframe\">\n",
       "  <thead>\n",
       "    <tr style=\"text-align: right;\">\n",
       "      <th></th>\n",
       "      <th>Code du département</th>\n",
       "      <th>Libellé du département</th>\n",
       "      <th>Inscrits</th>\n",
       "      <th>Abstentions_t2</th>\n",
       "      <th>% Abs/Ins_t2</th>\n",
       "      <th>Votants</th>\n",
       "      <th>% Vot/Ins</th>\n",
       "      <th>Blancs et nuls</th>\n",
       "      <th>% BlNuls/Ins</th>\n",
       "      <th>% BlNuls/Vot</th>\n",
       "      <th>...</th>\n",
       "      <th>Prénom</th>\n",
       "      <th>Voix</th>\n",
       "      <th>% Voix/Ins</th>\n",
       "      <th>% Voix/Exp</th>\n",
       "      <th>Sexe.1</th>\n",
       "      <th>Nom.1</th>\n",
       "      <th>Prénom.1</th>\n",
       "      <th>Voix.1</th>\n",
       "      <th>% Voix/Ins.1</th>\n",
       "      <th>% Voix/Exp.1</th>\n",
       "    </tr>\n",
       "  </thead>\n",
       "  <tbody>\n",
       "    <tr>\n",
       "      <th>0</th>\n",
       "      <td>1</td>\n",
       "      <td>AIN</td>\n",
       "      <td>393866</td>\n",
       "      <td>67279.0</td>\n",
       "      <td>17.08</td>\n",
       "      <td>326587.0</td>\n",
       "      <td>82.92</td>\n",
       "      <td>19513.0</td>\n",
       "      <td>4.95</td>\n",
       "      <td>5.97</td>\n",
       "      <td>...</td>\n",
       "      <td>François</td>\n",
       "      <td>131333.0</td>\n",
       "      <td>33.34</td>\n",
       "      <td>42.77</td>\n",
       "      <td>M</td>\n",
       "      <td>SARKOZY</td>\n",
       "      <td>Nicolas</td>\n",
       "      <td>175741.0</td>\n",
       "      <td>44.62</td>\n",
       "      <td>57.23</td>\n",
       "    </tr>\n",
       "    <tr>\n",
       "      <th>1</th>\n",
       "      <td>2</td>\n",
       "      <td>AISNE</td>\n",
       "      <td>376073</td>\n",
       "      <td>73997.0</td>\n",
       "      <td>19.68</td>\n",
       "      <td>302076.0</td>\n",
       "      <td>80.32</td>\n",
       "      <td>21056.0</td>\n",
       "      <td>5.60</td>\n",
       "      <td>6.97</td>\n",
       "      <td>...</td>\n",
       "      <td>François</td>\n",
       "      <td>147260.0</td>\n",
       "      <td>39.16</td>\n",
       "      <td>52.40</td>\n",
       "      <td>M</td>\n",
       "      <td>SARKOZY</td>\n",
       "      <td>Nicolas</td>\n",
       "      <td>133760.0</td>\n",
       "      <td>35.57</td>\n",
       "      <td>47.60</td>\n",
       "    </tr>\n",
       "    <tr>\n",
       "      <th>2</th>\n",
       "      <td>3</td>\n",
       "      <td>ALLIER</td>\n",
       "      <td>256211</td>\n",
       "      <td>45079.0</td>\n",
       "      <td>17.59</td>\n",
       "      <td>211132.0</td>\n",
       "      <td>82.41</td>\n",
       "      <td>14924.0</td>\n",
       "      <td>5.82</td>\n",
       "      <td>7.07</td>\n",
       "      <td>...</td>\n",
       "      <td>François</td>\n",
       "      <td>111615.0</td>\n",
       "      <td>43.56</td>\n",
       "      <td>56.89</td>\n",
       "      <td>M</td>\n",
       "      <td>SARKOZY</td>\n",
       "      <td>Nicolas</td>\n",
       "      <td>84593.0</td>\n",
       "      <td>33.02</td>\n",
       "      <td>43.11</td>\n",
       "    </tr>\n",
       "    <tr>\n",
       "      <th>3</th>\n",
       "      <td>4</td>\n",
       "      <td>ALPES DE HAUTE PROVENCE</td>\n",
       "      <td>123895</td>\n",
       "      <td>20314.0</td>\n",
       "      <td>16.40</td>\n",
       "      <td>103581.0</td>\n",
       "      <td>83.60</td>\n",
       "      <td>6639.0</td>\n",
       "      <td>5.36</td>\n",
       "      <td>6.41</td>\n",
       "      <td>...</td>\n",
       "      <td>François</td>\n",
       "      <td>49498.0</td>\n",
       "      <td>39.95</td>\n",
       "      <td>51.06</td>\n",
       "      <td>M</td>\n",
       "      <td>SARKOZY</td>\n",
       "      <td>Nicolas</td>\n",
       "      <td>47444.0</td>\n",
       "      <td>38.29</td>\n",
       "      <td>48.94</td>\n",
       "    </tr>\n",
       "    <tr>\n",
       "      <th>4</th>\n",
       "      <td>5</td>\n",
       "      <td>HAUTES ALPES</td>\n",
       "      <td>106875</td>\n",
       "      <td>17470.0</td>\n",
       "      <td>16.35</td>\n",
       "      <td>89405.0</td>\n",
       "      <td>83.65</td>\n",
       "      <td>6025.0</td>\n",
       "      <td>5.64</td>\n",
       "      <td>6.74</td>\n",
       "      <td>...</td>\n",
       "      <td>François</td>\n",
       "      <td>42435.0</td>\n",
       "      <td>39.71</td>\n",
       "      <td>50.89</td>\n",
       "      <td>M</td>\n",
       "      <td>SARKOZY</td>\n",
       "      <td>Nicolas</td>\n",
       "      <td>40945.0</td>\n",
       "      <td>38.31</td>\n",
       "      <td>49.11</td>\n",
       "    </tr>\n",
       "  </tbody>\n",
       "</table>\n",
       "<p>5 rows × 25 columns</p>\n",
       "</div>"
      ],
      "text/plain": [
       "  Code du département   Libellé du département  Inscrits  Abstentions_t2  \\\n",
       "0                   1                      AIN    393866         67279.0   \n",
       "1                   2                    AISNE    376073         73997.0   \n",
       "2                   3                   ALLIER    256211         45079.0   \n",
       "3                   4  ALPES DE HAUTE PROVENCE    123895         20314.0   \n",
       "4                   5             HAUTES ALPES    106875         17470.0   \n",
       "\n",
       "   % Abs/Ins_t2   Votants  % Vot/Ins  Blancs et nuls  % BlNuls/Ins  \\\n",
       "0         17.08  326587.0      82.92         19513.0          4.95   \n",
       "1         19.68  302076.0      80.32         21056.0          5.60   \n",
       "2         17.59  211132.0      82.41         14924.0          5.82   \n",
       "3         16.40  103581.0      83.60          6639.0          5.36   \n",
       "4         16.35   89405.0      83.65          6025.0          5.64   \n",
       "\n",
       "   % BlNuls/Vot  ...    Prénom      Voix  % Voix/Ins % Voix/Exp Sexe.1  \\\n",
       "0          5.97  ...  François  131333.0       33.34      42.77      M   \n",
       "1          6.97  ...  François  147260.0       39.16      52.40      M   \n",
       "2          7.07  ...  François  111615.0       43.56      56.89      M   \n",
       "3          6.41  ...  François   49498.0       39.95      51.06      M   \n",
       "4          6.74  ...  François   42435.0       39.71      50.89      M   \n",
       "\n",
       "     Nom.1  Prénom.1    Voix.1  % Voix/Ins.1 % Voix/Exp.1  \n",
       "0  SARKOZY   Nicolas  175741.0         44.62        57.23  \n",
       "1  SARKOZY   Nicolas  133760.0         35.57        47.60  \n",
       "2  SARKOZY   Nicolas   84593.0         33.02        43.11  \n",
       "3  SARKOZY   Nicolas   47444.0         38.29        48.94  \n",
       "4  SARKOZY   Nicolas   40945.0         38.31        49.11  \n",
       "\n",
       "[5 rows x 25 columns]"
      ]
     },
     "execution_count": 13,
     "metadata": {},
     "output_type": "execute_result"
    }
   ],
   "source": [
    "depa_t2_2012.rename(columns = {'Abstentions' : 'Abstentions_t2', '% Abs/Ins' : '% Abs/Ins_t2'}, inplace = True)\n",
    "depa_t1_2012.rename(columns = {'Abstentions' : 'Abstentions_t1', '% Abs/Ins' : '% Abs/Ins_t1'}, inplace = True)\n",
    "depa_t2_2012.head()"
   ]
  },
  {
   "cell_type": "code",
   "execution_count": 14,
   "id": "9565c1a7",
   "metadata": {},
   "outputs": [
    {
     "data": {
      "text/html": [
       "<div>\n",
       "<style scoped>\n",
       "    .dataframe tbody tr th:only-of-type {\n",
       "        vertical-align: middle;\n",
       "    }\n",
       "\n",
       "    .dataframe tbody tr th {\n",
       "        vertical-align: top;\n",
       "    }\n",
       "\n",
       "    .dataframe thead th {\n",
       "        text-align: right;\n",
       "    }\n",
       "</style>\n",
       "<table border=\"1\" class=\"dataframe\">\n",
       "  <thead>\n",
       "    <tr style=\"text-align: right;\">\n",
       "      <th></th>\n",
       "      <th>Code du département</th>\n",
       "      <th>Libellé du département</th>\n",
       "      <th>Abstentions_t1</th>\n",
       "      <th>% Abs/Ins_t1</th>\n",
       "      <th>Inscrits</th>\n",
       "      <th>Abstentions_t2</th>\n",
       "      <th>% Abs/Ins_t2</th>\n",
       "      <th>Année</th>\n",
       "      <th>Abs_nat_t1</th>\n",
       "      <th>Abs_nat_t2</th>\n",
       "      <th>Abs_nat</th>\n",
       "    </tr>\n",
       "  </thead>\n",
       "  <tbody>\n",
       "    <tr>\n",
       "      <th>0</th>\n",
       "      <td>1</td>\n",
       "      <td>AIN</td>\n",
       "      <td>65996.0</td>\n",
       "      <td>16.76</td>\n",
       "      <td>393808.0</td>\n",
       "      <td>67279.0</td>\n",
       "      <td>17.08</td>\n",
       "      <td>2012</td>\n",
       "      <td>20.518015</td>\n",
       "      <td>19.661709</td>\n",
       "      <td>20.089862</td>\n",
       "    </tr>\n",
       "    <tr>\n",
       "      <th>1</th>\n",
       "      <td>2</td>\n",
       "      <td>AISNE</td>\n",
       "      <td>72928.0</td>\n",
       "      <td>19.39</td>\n",
       "      <td>376068.0</td>\n",
       "      <td>73997.0</td>\n",
       "      <td>19.68</td>\n",
       "      <td>2012</td>\n",
       "      <td>20.518015</td>\n",
       "      <td>19.661709</td>\n",
       "      <td>20.089862</td>\n",
       "    </tr>\n",
       "    <tr>\n",
       "      <th>2</th>\n",
       "      <td>3</td>\n",
       "      <td>ALLIER</td>\n",
       "      <td>45266.0</td>\n",
       "      <td>17.66</td>\n",
       "      <td>256275.0</td>\n",
       "      <td>45079.0</td>\n",
       "      <td>17.59</td>\n",
       "      <td>2012</td>\n",
       "      <td>20.518015</td>\n",
       "      <td>19.661709</td>\n",
       "      <td>20.089862</td>\n",
       "    </tr>\n",
       "    <tr>\n",
       "      <th>3</th>\n",
       "      <td>4</td>\n",
       "      <td>ALPES DE HAUTE PROVENCE</td>\n",
       "      <td>21034.0</td>\n",
       "      <td>16.97</td>\n",
       "      <td>123933.0</td>\n",
       "      <td>20314.0</td>\n",
       "      <td>16.40</td>\n",
       "      <td>2012</td>\n",
       "      <td>20.518015</td>\n",
       "      <td>19.661709</td>\n",
       "      <td>20.089862</td>\n",
       "    </tr>\n",
       "    <tr>\n",
       "      <th>4</th>\n",
       "      <td>5</td>\n",
       "      <td>HAUTES ALPES</td>\n",
       "      <td>18246.0</td>\n",
       "      <td>17.07</td>\n",
       "      <td>106865.0</td>\n",
       "      <td>17470.0</td>\n",
       "      <td>16.35</td>\n",
       "      <td>2012</td>\n",
       "      <td>20.518015</td>\n",
       "      <td>19.661709</td>\n",
       "      <td>20.089862</td>\n",
       "    </tr>\n",
       "  </tbody>\n",
       "</table>\n",
       "</div>"
      ],
      "text/plain": [
       "  Code du département   Libellé du département  Abstentions_t1  % Abs/Ins_t1  \\\n",
       "0                   1                      AIN         65996.0         16.76   \n",
       "1                   2                    AISNE         72928.0         19.39   \n",
       "2                   3                   ALLIER         45266.0         17.66   \n",
       "3                   4  ALPES DE HAUTE PROVENCE         21034.0         16.97   \n",
       "4                   5             HAUTES ALPES         18246.0         17.07   \n",
       "\n",
       "   Inscrits  Abstentions_t2  % Abs/Ins_t2  Année  Abs_nat_t1  Abs_nat_t2  \\\n",
       "0  393808.0         67279.0         17.08   2012   20.518015   19.661709   \n",
       "1  376068.0         73997.0         19.68   2012   20.518015   19.661709   \n",
       "2  256275.0         45079.0         17.59   2012   20.518015   19.661709   \n",
       "3  123933.0         20314.0         16.40   2012   20.518015   19.661709   \n",
       "4  106865.0         17470.0         16.35   2012   20.518015   19.661709   \n",
       "\n",
       "     Abs_nat  \n",
       "0  20.089862  \n",
       "1  20.089862  \n",
       "2  20.089862  \n",
       "3  20.089862  \n",
       "4  20.089862  "
      ]
     },
     "execution_count": 14,
     "metadata": {},
     "output_type": "execute_result"
    }
   ],
   "source": [
    "df1_2012 = depa_t1_2012[['Code du département', 'Libellé du département', 'Abstentions_t1', '% Abs/Ins_t1', 'Inscrits']]\n",
    "df2_2012 = depa_t2_2012[['Abstentions_t2', '% Abs/Ins_t2']]\n",
    "depa_t1t2_2012 = pd.concat([df1_2012,df2_2012], axis = 1)\n",
    "depa_t1t2_2012['Année'] = 2012\n",
    "depa_t1t2_2012['Abs_nat_t1'] = (depa_t1t2_2012['Abstentions_t1'].sum()*100) / depa_t1t2_2012['Inscrits'].sum()\n",
    "depa_t1t2_2012['Abs_nat_t2'] = (depa_t1t2_2012['Abstentions_t2'].sum()*100) / depa_t1t2_2012['Inscrits'].sum()\n",
    "depa_t1t2_2012['Abs_nat'] = statistics.mean([depa_t1t2_2012['Abs_nat_t1'][0], depa_t1t2_2012['Abs_nat_t2'][0]])\n",
    "depa_t1t2_2012.head()"
   ]
  },
  {
   "cell_type": "markdown",
   "id": "a3b4cd4f",
   "metadata": {},
   "source": [
    "On tire l'abstention de 2017 au tour 1 et au tour 2"
   ]
  },
  {
   "cell_type": "code",
   "execution_count": 15,
   "id": "09fa10e8",
   "metadata": {},
   "outputs": [],
   "source": [
    "pres_t1_2017 = pd.read_excel('participation_2017_tour1_datagouv.xls')\n",
    "pres_t2_2017 = pd.read_excel('participation_2017_tour2_datagouv.xls')"
   ]
  },
  {
   "cell_type": "code",
   "execution_count": 16,
   "id": "60853e32",
   "metadata": {},
   "outputs": [],
   "source": [
    "xls_1 = pd.ExcelFile('participation_2017_tour1_datagouv.xls')\n",
    "xls_2 = pd.ExcelFile('participation_2017_tour2_datagouv.xls')"
   ]
  },
  {
   "cell_type": "code",
   "execution_count": 17,
   "id": "fb9e0d68",
   "metadata": {},
   "outputs": [
    {
     "name": "stdout",
     "output_type": "stream",
     "text": [
      "['FE Metro OM Tour 1', 'Régions Tour 1', 'Départements Tour 1', 'Circo. Leg. Tour 1', 'Canton Tour 1']\n",
      "['FE Metro OM Tour 2', 'Régions Tour 2', 'Départements Tour 2', 'Circo. Leg. Tour 2', 'Canton Tour 2']\n"
     ]
    }
   ],
   "source": [
    "print(xls_1.sheet_names)\n",
    "print(xls_2.sheet_names)"
   ]
  },
  {
   "cell_type": "code",
   "execution_count": 18,
   "id": "4cdea0c0",
   "metadata": {},
   "outputs": [
    {
     "data": {
      "text/html": [
       "<div>\n",
       "<style scoped>\n",
       "    .dataframe tbody tr th:only-of-type {\n",
       "        vertical-align: middle;\n",
       "    }\n",
       "\n",
       "    .dataframe tbody tr th {\n",
       "        vertical-align: top;\n",
       "    }\n",
       "\n",
       "    .dataframe thead th {\n",
       "        text-align: right;\n",
       "    }\n",
       "</style>\n",
       "<table border=\"1\" class=\"dataframe\">\n",
       "  <thead>\n",
       "    <tr style=\"text-align: right;\">\n",
       "      <th></th>\n",
       "      <th>Code du département</th>\n",
       "      <th>Libellé du département</th>\n",
       "      <th>Inscrits</th>\n",
       "      <th>Abstentions</th>\n",
       "      <th>% Abs/Ins</th>\n",
       "      <th>Votants</th>\n",
       "      <th>% Vot/Ins</th>\n",
       "      <th>Blancs</th>\n",
       "      <th>% Blancs/Ins</th>\n",
       "      <th>% Blancs/Vot</th>\n",
       "      <th>...</th>\n",
       "      <th>Prénom.9</th>\n",
       "      <th>Voix.9</th>\n",
       "      <th>% Voix/Ins.9</th>\n",
       "      <th>% Voix/Exp.9</th>\n",
       "      <th>Sexe.10</th>\n",
       "      <th>Nom.10</th>\n",
       "      <th>Prénom.10</th>\n",
       "      <th>Voix.10</th>\n",
       "      <th>% Voix/Ins.10</th>\n",
       "      <th>% Voix/Exp.10</th>\n",
       "    </tr>\n",
       "  </thead>\n",
       "  <tbody>\n",
       "    <tr>\n",
       "      <th>0</th>\n",
       "      <td>1</td>\n",
       "      <td>Ain</td>\n",
       "      <td>415886</td>\n",
       "      <td>81507</td>\n",
       "      <td>19.60</td>\n",
       "      <td>334379</td>\n",
       "      <td>80.40</td>\n",
       "      <td>6342</td>\n",
       "      <td>1.52</td>\n",
       "      <td>1.90</td>\n",
       "      <td>...</td>\n",
       "      <td>Nathalie</td>\n",
       "      <td>1842</td>\n",
       "      <td>0.44</td>\n",
       "      <td>0.57</td>\n",
       "      <td>M</td>\n",
       "      <td>CHEMINADE</td>\n",
       "      <td>Jacques</td>\n",
       "      <td>595</td>\n",
       "      <td>0.14</td>\n",
       "      <td>0.18</td>\n",
       "    </tr>\n",
       "    <tr>\n",
       "      <th>1</th>\n",
       "      <td>2</td>\n",
       "      <td>Aisne</td>\n",
       "      <td>375752</td>\n",
       "      <td>80183</td>\n",
       "      <td>21.34</td>\n",
       "      <td>295569</td>\n",
       "      <td>78.66</td>\n",
       "      <td>5047</td>\n",
       "      <td>1.34</td>\n",
       "      <td>1.71</td>\n",
       "      <td>...</td>\n",
       "      <td>François</td>\n",
       "      <td>2171</td>\n",
       "      <td>0.58</td>\n",
       "      <td>0.75</td>\n",
       "      <td>M</td>\n",
       "      <td>CHEMINADE</td>\n",
       "      <td>Jacques</td>\n",
       "      <td>536</td>\n",
       "      <td>0.14</td>\n",
       "      <td>0.19</td>\n",
       "    </tr>\n",
       "    <tr>\n",
       "      <th>2</th>\n",
       "      <td>3</td>\n",
       "      <td>Allier</td>\n",
       "      <td>253508</td>\n",
       "      <td>54275</td>\n",
       "      <td>21.41</td>\n",
       "      <td>199233</td>\n",
       "      <td>78.59</td>\n",
       "      <td>4335</td>\n",
       "      <td>1.71</td>\n",
       "      <td>2.18</td>\n",
       "      <td>...</td>\n",
       "      <td>François</td>\n",
       "      <td>1422</td>\n",
       "      <td>0.56</td>\n",
       "      <td>0.74</td>\n",
       "      <td>M</td>\n",
       "      <td>CHEMINADE</td>\n",
       "      <td>Jacques</td>\n",
       "      <td>353</td>\n",
       "      <td>0.14</td>\n",
       "      <td>0.18</td>\n",
       "    </tr>\n",
       "    <tr>\n",
       "      <th>3</th>\n",
       "      <td>4</td>\n",
       "      <td>Alpes-de-Haute-Provence</td>\n",
       "      <td>126578</td>\n",
       "      <td>24323</td>\n",
       "      <td>19.22</td>\n",
       "      <td>102255</td>\n",
       "      <td>80.78</td>\n",
       "      <td>1808</td>\n",
       "      <td>1.43</td>\n",
       "      <td>1.77</td>\n",
       "      <td>...</td>\n",
       "      <td>Nathalie</td>\n",
       "      <td>521</td>\n",
       "      <td>0.41</td>\n",
       "      <td>0.52</td>\n",
       "      <td>M</td>\n",
       "      <td>CHEMINADE</td>\n",
       "      <td>Jacques</td>\n",
       "      <td>205</td>\n",
       "      <td>0.16</td>\n",
       "      <td>0.21</td>\n",
       "    </tr>\n",
       "    <tr>\n",
       "      <th>4</th>\n",
       "      <td>5</td>\n",
       "      <td>Hautes-Alpes</td>\n",
       "      <td>109907</td>\n",
       "      <td>20821</td>\n",
       "      <td>18.94</td>\n",
       "      <td>89086</td>\n",
       "      <td>81.06</td>\n",
       "      <td>1541</td>\n",
       "      <td>1.40</td>\n",
       "      <td>1.73</td>\n",
       "      <td>...</td>\n",
       "      <td>Nathalie</td>\n",
       "      <td>411</td>\n",
       "      <td>0.37</td>\n",
       "      <td>0.47</td>\n",
       "      <td>M</td>\n",
       "      <td>CHEMINADE</td>\n",
       "      <td>Jacques</td>\n",
       "      <td>165</td>\n",
       "      <td>0.15</td>\n",
       "      <td>0.19</td>\n",
       "    </tr>\n",
       "  </tbody>\n",
       "</table>\n",
       "<p>5 rows × 82 columns</p>\n",
       "</div>"
      ],
      "text/plain": [
       "  Code du département   Libellé du département  Inscrits  Abstentions  \\\n",
       "0                   1                      Ain    415886        81507   \n",
       "1                   2                    Aisne    375752        80183   \n",
       "2                   3                   Allier    253508        54275   \n",
       "3                   4  Alpes-de-Haute-Provence    126578        24323   \n",
       "4                   5             Hautes-Alpes    109907        20821   \n",
       "\n",
       "   % Abs/Ins  Votants  % Vot/Ins  Blancs  % Blancs/Ins  % Blancs/Vot  ...  \\\n",
       "0      19.60   334379      80.40    6342          1.52          1.90  ...   \n",
       "1      21.34   295569      78.66    5047          1.34          1.71  ...   \n",
       "2      21.41   199233      78.59    4335          1.71          2.18  ...   \n",
       "3      19.22   102255      80.78    1808          1.43          1.77  ...   \n",
       "4      18.94    89086      81.06    1541          1.40          1.73  ...   \n",
       "\n",
       "   Prénom.9  Voix.9  % Voix/Ins.9  % Voix/Exp.9  Sexe.10     Nom.10 Prénom.10  \\\n",
       "0  Nathalie    1842          0.44          0.57        M  CHEMINADE   Jacques   \n",
       "1  François    2171          0.58          0.75        M  CHEMINADE   Jacques   \n",
       "2  François    1422          0.56          0.74        M  CHEMINADE   Jacques   \n",
       "3  Nathalie     521          0.41          0.52        M  CHEMINADE   Jacques   \n",
       "4  Nathalie     411          0.37          0.47        M  CHEMINADE   Jacques   \n",
       "\n",
       "  Voix.10 % Voix/Ins.10  % Voix/Exp.10  \n",
       "0     595          0.14           0.18  \n",
       "1     536          0.14           0.19  \n",
       "2     353          0.14           0.18  \n",
       "3     205          0.16           0.21  \n",
       "4     165          0.15           0.19  \n",
       "\n",
       "[5 rows x 82 columns]"
      ]
     },
     "execution_count": 18,
     "metadata": {},
     "output_type": "execute_result"
    }
   ],
   "source": [
    "depa_t1_2017 = pd.read_excel('participation_2017_tour1_datagouv.xls', sheet_name = \"Départements Tour 1\")\n",
    "depa_t2_2017 = pd.read_excel('participation_2017_tour2_datagouv.xls', sheet_name = \"Départements Tour 2\")\n",
    "depa_t1_2017.head()"
   ]
  },
  {
   "cell_type": "code",
   "execution_count": 19,
   "id": "11cece1f",
   "metadata": {},
   "outputs": [],
   "source": [
    "depa_t2_2017.rename(columns = {'Abstentions' : 'Abstentions_t2', '% Abs/Ins' : '% Abs/Ins_t2'}, inplace = True)\n",
    "depa_t1_2017.rename(columns = {'Abstentions' : 'Abstentions_t1', '% Abs/Ins' : '% Abs/Ins_t1'}, inplace = True)"
   ]
  },
  {
   "cell_type": "code",
   "execution_count": 20,
   "id": "00c95970",
   "metadata": {},
   "outputs": [
    {
     "data": {
      "text/html": [
       "<div>\n",
       "<style scoped>\n",
       "    .dataframe tbody tr th:only-of-type {\n",
       "        vertical-align: middle;\n",
       "    }\n",
       "\n",
       "    .dataframe tbody tr th {\n",
       "        vertical-align: top;\n",
       "    }\n",
       "\n",
       "    .dataframe thead th {\n",
       "        text-align: right;\n",
       "    }\n",
       "</style>\n",
       "<table border=\"1\" class=\"dataframe\">\n",
       "  <thead>\n",
       "    <tr style=\"text-align: right;\">\n",
       "      <th></th>\n",
       "      <th>Code du département</th>\n",
       "      <th>Libellé du département</th>\n",
       "      <th>Abstentions_t1</th>\n",
       "      <th>% Abs/Ins_t1</th>\n",
       "      <th>Inscrits</th>\n",
       "      <th>Abstentions_t2</th>\n",
       "      <th>% Abs/Ins_t2</th>\n",
       "      <th>Année</th>\n",
       "      <th>Abs_nat_t1</th>\n",
       "      <th>Abs_nat_t2</th>\n",
       "      <th>Abs_nat</th>\n",
       "    </tr>\n",
       "  </thead>\n",
       "  <tbody>\n",
       "    <tr>\n",
       "      <th>0</th>\n",
       "      <td>1</td>\n",
       "      <td>Ain</td>\n",
       "      <td>81507</td>\n",
       "      <td>19.60</td>\n",
       "      <td>415886</td>\n",
       "      <td>93130</td>\n",
       "      <td>22.39</td>\n",
       "      <td>2017</td>\n",
       "      <td>22.231967</td>\n",
       "      <td>25.432557</td>\n",
       "      <td>23.832262</td>\n",
       "    </tr>\n",
       "    <tr>\n",
       "      <th>1</th>\n",
       "      <td>2</td>\n",
       "      <td>Aisne</td>\n",
       "      <td>80183</td>\n",
       "      <td>21.34</td>\n",
       "      <td>375752</td>\n",
       "      <td>90745</td>\n",
       "      <td>24.15</td>\n",
       "      <td>2017</td>\n",
       "      <td>22.231967</td>\n",
       "      <td>25.432557</td>\n",
       "      <td>23.832262</td>\n",
       "    </tr>\n",
       "    <tr>\n",
       "      <th>2</th>\n",
       "      <td>3</td>\n",
       "      <td>Allier</td>\n",
       "      <td>54275</td>\n",
       "      <td>21.41</td>\n",
       "      <td>253508</td>\n",
       "      <td>59294</td>\n",
       "      <td>23.39</td>\n",
       "      <td>2017</td>\n",
       "      <td>22.231967</td>\n",
       "      <td>25.432557</td>\n",
       "      <td>23.832262</td>\n",
       "    </tr>\n",
       "    <tr>\n",
       "      <th>3</th>\n",
       "      <td>4</td>\n",
       "      <td>Alpes-de-Haute-Provence</td>\n",
       "      <td>24323</td>\n",
       "      <td>19.22</td>\n",
       "      <td>126578</td>\n",
       "      <td>29255</td>\n",
       "      <td>23.13</td>\n",
       "      <td>2017</td>\n",
       "      <td>22.231967</td>\n",
       "      <td>25.432557</td>\n",
       "      <td>23.832262</td>\n",
       "    </tr>\n",
       "    <tr>\n",
       "      <th>4</th>\n",
       "      <td>5</td>\n",
       "      <td>Hautes-Alpes</td>\n",
       "      <td>20821</td>\n",
       "      <td>18.94</td>\n",
       "      <td>109907</td>\n",
       "      <td>24895</td>\n",
       "      <td>22.65</td>\n",
       "      <td>2017</td>\n",
       "      <td>22.231967</td>\n",
       "      <td>25.432557</td>\n",
       "      <td>23.832262</td>\n",
       "    </tr>\n",
       "  </tbody>\n",
       "</table>\n",
       "</div>"
      ],
      "text/plain": [
       "  Code du département   Libellé du département  Abstentions_t1  % Abs/Ins_t1  \\\n",
       "0                   1                      Ain           81507         19.60   \n",
       "1                   2                    Aisne           80183         21.34   \n",
       "2                   3                   Allier           54275         21.41   \n",
       "3                   4  Alpes-de-Haute-Provence           24323         19.22   \n",
       "4                   5             Hautes-Alpes           20821         18.94   \n",
       "\n",
       "   Inscrits  Abstentions_t2  % Abs/Ins_t2  Année  Abs_nat_t1  Abs_nat_t2  \\\n",
       "0    415886           93130         22.39   2017   22.231967   25.432557   \n",
       "1    375752           90745         24.15   2017   22.231967   25.432557   \n",
       "2    253508           59294         23.39   2017   22.231967   25.432557   \n",
       "3    126578           29255         23.13   2017   22.231967   25.432557   \n",
       "4    109907           24895         22.65   2017   22.231967   25.432557   \n",
       "\n",
       "     Abs_nat  \n",
       "0  23.832262  \n",
       "1  23.832262  \n",
       "2  23.832262  \n",
       "3  23.832262  \n",
       "4  23.832262  "
      ]
     },
     "execution_count": 20,
     "metadata": {},
     "output_type": "execute_result"
    }
   ],
   "source": [
    "df1_2017 = depa_t1_2017[['Code du département', 'Libellé du département', 'Abstentions_t1', '% Abs/Ins_t1', 'Inscrits']]\n",
    "df2_2017 = depa_t2_2017[['Abstentions_t2', '% Abs/Ins_t2']]\n",
    "depa_t1t2_2017 = pd.concat([df1_2017,df2_2017], axis = 1)\n",
    "depa_t1t2_2017['Année'] = 2017\n",
    "depa_t1t2_2017['Abs_nat_t1'] = (depa_t1t2_2017['Abstentions_t1'].sum()*100) / depa_t1t2_2017['Inscrits'].sum()\n",
    "depa_t1t2_2017['Abs_nat_t2'] = (depa_t1t2_2017['Abstentions_t2'].sum()*100) / depa_t1t2_2017['Inscrits'].sum()\n",
    "depa_t1t2_2017['Abs_nat'] = statistics.mean([depa_t1t2_2017['Abs_nat_t1'][0], depa_t1t2_2017['Abs_nat_t2'][0]])\n",
    "depa_t1t2_2017.head()"
   ]
  },
  {
   "cell_type": "markdown",
   "id": "3723b204",
   "metadata": {},
   "source": [
    "On tire l'abstention de 2007 au tour 1 et au tour 2"
   ]
  },
  {
   "cell_type": "code",
   "execution_count": 21,
   "id": "d1db296a",
   "metadata": {},
   "outputs": [],
   "source": [
    "pres_2007 = pd.read_excel('participation_2007_datagouv.xls')"
   ]
  },
  {
   "cell_type": "code",
   "execution_count": 22,
   "id": "f0605dce",
   "metadata": {},
   "outputs": [
    {
     "data": {
      "text/plain": [
       "['France entière T1T2',\n",
       " 'Régions T1',\n",
       " 'Régions T2',\n",
       " 'Départements T1',\n",
       " 'Départements T2',\n",
       " 'Circo leg T1',\n",
       " 'Circo leg T2',\n",
       " 'Cantons T1',\n",
       " 'Cantons T2']"
      ]
     },
     "execution_count": 22,
     "metadata": {},
     "output_type": "execute_result"
    }
   ],
   "source": [
    "xls = pd.ExcelFile('participation_2007_datagouv.xls')\n",
    "xls.sheet_names"
   ]
  },
  {
   "cell_type": "code",
   "execution_count": 23,
   "id": "29d5f726",
   "metadata": {},
   "outputs": [],
   "source": [
    "depa_t1_2007 = pd.read_excel('participation_2007_datagouv.xls', sheet_name = \"Départements T1\")\n",
    "depa_t2_2007 = pd.read_excel('participation_2007_datagouv.xls', sheet_name = \"Départements T2\")\n",
    "depa_t2_2007.rename(columns = {'Abstentions' : 'Abstentions_t2', '% Abs/Ins' : '% Abs/Ins_t2'}, inplace = True)\n",
    "depa_t1_2007.rename(columns = {'Abstentions' : 'Abstentions_t1', '% Abs/Ins' : '% Abs/Ins_t1'}, inplace = True)"
   ]
  },
  {
   "cell_type": "code",
   "execution_count": 24,
   "id": "34c92b12",
   "metadata": {},
   "outputs": [
    {
     "data": {
      "text/html": [
       "<div>\n",
       "<style scoped>\n",
       "    .dataframe tbody tr th:only-of-type {\n",
       "        vertical-align: middle;\n",
       "    }\n",
       "\n",
       "    .dataframe tbody tr th {\n",
       "        vertical-align: top;\n",
       "    }\n",
       "\n",
       "    .dataframe thead th {\n",
       "        text-align: right;\n",
       "    }\n",
       "</style>\n",
       "<table border=\"1\" class=\"dataframe\">\n",
       "  <thead>\n",
       "    <tr style=\"text-align: right;\">\n",
       "      <th></th>\n",
       "      <th>Code du département</th>\n",
       "      <th>Libellé du département</th>\n",
       "      <th>Abstentions_t1</th>\n",
       "      <th>% Abs/Ins_t1</th>\n",
       "      <th>Inscrits</th>\n",
       "      <th>Abstentions_t2</th>\n",
       "      <th>% Abs/Ins_t2</th>\n",
       "      <th>Année</th>\n",
       "      <th>Abs_nat_t1</th>\n",
       "      <th>Abs_nat_t2</th>\n",
       "      <th>Abs_nat</th>\n",
       "    </tr>\n",
       "  </thead>\n",
       "  <tbody>\n",
       "    <tr>\n",
       "      <th>0</th>\n",
       "      <td>1</td>\n",
       "      <td>AIN</td>\n",
       "      <td>52040</td>\n",
       "      <td>13,96</td>\n",
       "      <td>372899</td>\n",
       "      <td>53428</td>\n",
       "      <td>14,33</td>\n",
       "      <td>2007</td>\n",
       "      <td>16.231464</td>\n",
       "      <td>16.033898</td>\n",
       "      <td>16.132681</td>\n",
       "    </tr>\n",
       "    <tr>\n",
       "      <th>1</th>\n",
       "      <td>2</td>\n",
       "      <td>AISNE</td>\n",
       "      <td>61974</td>\n",
       "      <td>16,42</td>\n",
       "      <td>377475</td>\n",
       "      <td>60071</td>\n",
       "      <td>15,91</td>\n",
       "      <td>2007</td>\n",
       "      <td>16.231464</td>\n",
       "      <td>16.033898</td>\n",
       "      <td>16.132681</td>\n",
       "    </tr>\n",
       "    <tr>\n",
       "      <th>2</th>\n",
       "      <td>3</td>\n",
       "      <td>ALLIER</td>\n",
       "      <td>38012</td>\n",
       "      <td>14,65</td>\n",
       "      <td>259537</td>\n",
       "      <td>38826</td>\n",
       "      <td>14,96</td>\n",
       "      <td>2007</td>\n",
       "      <td>16.231464</td>\n",
       "      <td>16.033898</td>\n",
       "      <td>16.132681</td>\n",
       "    </tr>\n",
       "    <tr>\n",
       "      <th>3</th>\n",
       "      <td>4</td>\n",
       "      <td>ALPES DE HAUTE PROVENCE</td>\n",
       "      <td>16143</td>\n",
       "      <td>13,57</td>\n",
       "      <td>118936</td>\n",
       "      <td>15140</td>\n",
       "      <td>12,73</td>\n",
       "      <td>2007</td>\n",
       "      <td>16.231464</td>\n",
       "      <td>16.033898</td>\n",
       "      <td>16.132681</td>\n",
       "    </tr>\n",
       "    <tr>\n",
       "      <th>4</th>\n",
       "      <td>5</td>\n",
       "      <td>HAUTES ALPES</td>\n",
       "      <td>14428</td>\n",
       "      <td>14,01</td>\n",
       "      <td>102955</td>\n",
       "      <td>13349</td>\n",
       "      <td>12,95</td>\n",
       "      <td>2007</td>\n",
       "      <td>16.231464</td>\n",
       "      <td>16.033898</td>\n",
       "      <td>16.132681</td>\n",
       "    </tr>\n",
       "  </tbody>\n",
       "</table>\n",
       "</div>"
      ],
      "text/plain": [
       "  Code du département   Libellé du département  Abstentions_t1 % Abs/Ins_t1  \\\n",
       "0                   1                      AIN           52040        13,96   \n",
       "1                   2                    AISNE           61974        16,42   \n",
       "2                   3                   ALLIER           38012        14,65   \n",
       "3                   4  ALPES DE HAUTE PROVENCE           16143        13,57   \n",
       "4                   5             HAUTES ALPES           14428        14,01   \n",
       "\n",
       "   Inscrits  Abstentions_t2 % Abs/Ins_t2  Année  Abs_nat_t1  Abs_nat_t2  \\\n",
       "0    372899           53428        14,33   2007   16.231464   16.033898   \n",
       "1    377475           60071        15,91   2007   16.231464   16.033898   \n",
       "2    259537           38826        14,96   2007   16.231464   16.033898   \n",
       "3    118936           15140        12,73   2007   16.231464   16.033898   \n",
       "4    102955           13349        12,95   2007   16.231464   16.033898   \n",
       "\n",
       "     Abs_nat  \n",
       "0  16.132681  \n",
       "1  16.132681  \n",
       "2  16.132681  \n",
       "3  16.132681  \n",
       "4  16.132681  "
      ]
     },
     "execution_count": 24,
     "metadata": {},
     "output_type": "execute_result"
    }
   ],
   "source": [
    "df1_2007 = depa_t1_2007[['Code du département', 'Libellé du département', 'Abstentions_t1', '% Abs/Ins_t1', 'Inscrits']]\n",
    "df2_2007 = depa_t2_2007[['Abstentions_t2', '% Abs/Ins_t2']]\n",
    "depa_t1t2_2007 = pd.concat([df1_2007,df2_2007], axis = 1)\n",
    "depa_t1t2_2007['Année'] = 2007\n",
    "depa_t1t2_2007['Abs_nat_t1'] = (depa_t1t2_2007['Abstentions_t1'].sum()*100) / depa_t1t2_2007['Inscrits'].sum()\n",
    "depa_t1t2_2007['Abs_nat_t2'] = (depa_t1t2_2007['Abstentions_t2'].sum()*100) / depa_t1t2_2007['Inscrits'].sum()\n",
    "depa_t1t2_2007['Abs_nat'] = statistics.mean([depa_t1t2_2007['Abs_nat_t1'][0], depa_t1t2_2007['Abs_nat_t2'][0]])\n",
    "depa_t1t2_2007.head()"
   ]
  },
  {
   "cell_type": "markdown",
   "id": "954fef27",
   "metadata": {},
   "source": [
    "On tire l'abstention de 2002 au tour 1 et au tour 2"
   ]
  },
  {
   "cell_type": "code",
   "execution_count": 25,
   "id": "17653842",
   "metadata": {},
   "outputs": [
    {
     "data": {
      "text/plain": [
       "['France entière T1T2',\n",
       " 'Régions T1',\n",
       " 'Régions T2',\n",
       " 'Départements T1',\n",
       " 'Départements T2',\n",
       " 'Circo leg T1',\n",
       " 'Circo leg T2',\n",
       " 'Cantons T1',\n",
       " 'Cantons T2']"
      ]
     },
     "execution_count": 25,
     "metadata": {},
     "output_type": "execute_result"
    }
   ],
   "source": [
    "pres_2002 = pd.read_excel('participation_2002_datagouv.xls')\n",
    "xls = pd.ExcelFile('participation_2002_datagouv.xls')\n",
    "xls.sheet_names"
   ]
  },
  {
   "cell_type": "code",
   "execution_count": 26,
   "id": "222c178b",
   "metadata": {},
   "outputs": [],
   "source": [
    "depa_t1_2002 = pd.read_excel('participation_2002_datagouv.xls', sheet_name = \"Départements T1\")\n",
    "depa_t2_2002 = pd.read_excel('participation_2002_datagouv.xls', sheet_name = \"Départements T2\")\n",
    "depa_t2_2002.rename(columns = {'Abstentions' : 'Abstentions_t2', '% Abs/Ins' : '% Abs/Ins_t2'}, inplace = True)\n",
    "depa_t1_2002.rename(columns = {'Abstentions' : 'Abstentions_t1', '% Abs/Ins' : '% Abs/Ins_t1'}, inplace = True)"
   ]
  },
  {
   "cell_type": "code",
   "execution_count": 27,
   "id": "0921809f",
   "metadata": {},
   "outputs": [
    {
     "data": {
      "text/html": [
       "<div>\n",
       "<style scoped>\n",
       "    .dataframe tbody tr th:only-of-type {\n",
       "        vertical-align: middle;\n",
       "    }\n",
       "\n",
       "    .dataframe tbody tr th {\n",
       "        vertical-align: top;\n",
       "    }\n",
       "\n",
       "    .dataframe thead th {\n",
       "        text-align: right;\n",
       "    }\n",
       "</style>\n",
       "<table border=\"1\" class=\"dataframe\">\n",
       "  <thead>\n",
       "    <tr style=\"text-align: right;\">\n",
       "      <th></th>\n",
       "      <th>Code du département</th>\n",
       "      <th>Libellé du département</th>\n",
       "      <th>Abstentions_t1</th>\n",
       "      <th>% Abs/Ins_t1</th>\n",
       "      <th>Inscrits</th>\n",
       "      <th>Abstentions_t2</th>\n",
       "      <th>% Abs/Ins_t2</th>\n",
       "      <th>Année</th>\n",
       "      <th>Abs_nat_t1</th>\n",
       "      <th>Abs_nat_t2</th>\n",
       "      <th>Abs_nat</th>\n",
       "    </tr>\n",
       "  </thead>\n",
       "  <tbody>\n",
       "    <tr>\n",
       "      <th>0</th>\n",
       "      <td>1</td>\n",
       "      <td>AIN</td>\n",
       "      <td>89002.0</td>\n",
       "      <td>26.31</td>\n",
       "      <td>338220</td>\n",
       "      <td>64394.0</td>\n",
       "      <td>19.04</td>\n",
       "      <td>2002</td>\n",
       "      <td>14.199823</td>\n",
       "      <td>10.145453</td>\n",
       "      <td>12.172638</td>\n",
       "    </tr>\n",
       "    <tr>\n",
       "      <th>1</th>\n",
       "      <td>2</td>\n",
       "      <td>AISNE</td>\n",
       "      <td>96157.0</td>\n",
       "      <td>26.21</td>\n",
       "      <td>366810</td>\n",
       "      <td>71788.0</td>\n",
       "      <td>19.57</td>\n",
       "      <td>2002</td>\n",
       "      <td>14.199823</td>\n",
       "      <td>10.145453</td>\n",
       "      <td>12.172638</td>\n",
       "    </tr>\n",
       "    <tr>\n",
       "      <th>2</th>\n",
       "      <td>3</td>\n",
       "      <td>ALLIER</td>\n",
       "      <td>67066.0</td>\n",
       "      <td>26.19</td>\n",
       "      <td>256113</td>\n",
       "      <td>48994.0</td>\n",
       "      <td>19.13</td>\n",
       "      <td>2002</td>\n",
       "      <td>14.199823</td>\n",
       "      <td>10.145453</td>\n",
       "      <td>12.172638</td>\n",
       "    </tr>\n",
       "    <tr>\n",
       "      <th>3</th>\n",
       "      <td>4</td>\n",
       "      <td>ALPES DE HAUTE PROVENCE</td>\n",
       "      <td>26555.0</td>\n",
       "      <td>24.38</td>\n",
       "      <td>108943</td>\n",
       "      <td>18812.0</td>\n",
       "      <td>17.27</td>\n",
       "      <td>2002</td>\n",
       "      <td>14.199823</td>\n",
       "      <td>10.145453</td>\n",
       "      <td>12.172638</td>\n",
       "    </tr>\n",
       "    <tr>\n",
       "      <th>4</th>\n",
       "      <td>5</td>\n",
       "      <td>HAUTES ALPES</td>\n",
       "      <td>23051.0</td>\n",
       "      <td>24.24</td>\n",
       "      <td>95100</td>\n",
       "      <td>16533.0</td>\n",
       "      <td>17.39</td>\n",
       "      <td>2002</td>\n",
       "      <td>14.199823</td>\n",
       "      <td>10.145453</td>\n",
       "      <td>12.172638</td>\n",
       "    </tr>\n",
       "  </tbody>\n",
       "</table>\n",
       "</div>"
      ],
      "text/plain": [
       "  Code du département   Libellé du département  Abstentions_t1  % Abs/Ins_t1  \\\n",
       "0                   1                      AIN         89002.0         26.31   \n",
       "1                   2                    AISNE         96157.0         26.21   \n",
       "2                   3                   ALLIER         67066.0         26.19   \n",
       "3                   4  ALPES DE HAUTE PROVENCE         26555.0         24.38   \n",
       "4                   5             HAUTES ALPES         23051.0         24.24   \n",
       "\n",
       "   Inscrits  Abstentions_t2  % Abs/Ins_t2  Année  Abs_nat_t1  Abs_nat_t2  \\\n",
       "0    338220         64394.0         19.04   2002   14.199823   10.145453   \n",
       "1    366810         71788.0         19.57   2002   14.199823   10.145453   \n",
       "2    256113         48994.0         19.13   2002   14.199823   10.145453   \n",
       "3    108943         18812.0         17.27   2002   14.199823   10.145453   \n",
       "4     95100         16533.0         17.39   2002   14.199823   10.145453   \n",
       "\n",
       "     Abs_nat  \n",
       "0  12.172638  \n",
       "1  12.172638  \n",
       "2  12.172638  \n",
       "3  12.172638  \n",
       "4  12.172638  "
      ]
     },
     "execution_count": 27,
     "metadata": {},
     "output_type": "execute_result"
    }
   ],
   "source": [
    "df1_2002 = depa_t1_2002[['Code du département', 'Libellé du département', 'Abstentions_t1', '% Abs/Ins_t1', 'Inscrits']]\n",
    "df2_2002 = depa_t2_2002[['Abstentions_t2', '% Abs/Ins_t2']]\n",
    "depa_t1t2_2002 = pd.concat([df1_2002,df2_2002], axis = 1)\n",
    "depa_t1t2_2002['Année'] = 2002\n",
    "depa_t1t2_2002['Abs_nat_t1'] = (depa_t1t2_2002['Abstentions_t1'].sum()*100) / depa_t1t2_2002['Inscrits'].sum()\n",
    "depa_t1t2_2002['Abs_nat_t2'] = (depa_t1t2_2002['Abstentions_t2'].sum()*100) / depa_t1t2_2002['Inscrits'].sum()\n",
    "depa_t1t2_2002['Abs_nat'] = statistics.mean([depa_t1t2_2002['Abs_nat_t1'][0], depa_t1t2_2002['Abs_nat_t2'][0]])\n",
    "depa_t1t2_2002.head()"
   ]
  },
  {
   "cell_type": "markdown",
   "id": "8f5fd240",
   "metadata": {},
   "source": [
    "On concatène les 4 datasets "
   ]
  },
  {
   "cell_type": "code",
   "execution_count": 28,
   "id": "48441141",
   "metadata": {},
   "outputs": [
    {
     "data": {
      "text/html": [
       "<div>\n",
       "<style scoped>\n",
       "    .dataframe tbody tr th:only-of-type {\n",
       "        vertical-align: middle;\n",
       "    }\n",
       "\n",
       "    .dataframe tbody tr th {\n",
       "        vertical-align: top;\n",
       "    }\n",
       "\n",
       "    .dataframe thead th {\n",
       "        text-align: right;\n",
       "    }\n",
       "</style>\n",
       "<table border=\"1\" class=\"dataframe\">\n",
       "  <thead>\n",
       "    <tr style=\"text-align: right;\">\n",
       "      <th></th>\n",
       "      <th>Code du département</th>\n",
       "      <th>Libellé du département</th>\n",
       "      <th>Abstentions_t1</th>\n",
       "      <th>% Abs/Ins_t1</th>\n",
       "      <th>Inscrits</th>\n",
       "      <th>Abstentions_t2</th>\n",
       "      <th>% Abs/Ins_t2</th>\n",
       "      <th>Année</th>\n",
       "      <th>Abs_nat_t1</th>\n",
       "      <th>Abs_nat_t2</th>\n",
       "      <th>Abs_nat</th>\n",
       "    </tr>\n",
       "  </thead>\n",
       "  <tbody>\n",
       "    <tr>\n",
       "      <th>0</th>\n",
       "      <td>1</td>\n",
       "      <td>Ain</td>\n",
       "      <td>81507.0</td>\n",
       "      <td>19.6</td>\n",
       "      <td>415886.0</td>\n",
       "      <td>93130.0</td>\n",
       "      <td>22.39</td>\n",
       "      <td>2017</td>\n",
       "      <td>22.231967</td>\n",
       "      <td>25.432557</td>\n",
       "      <td>23.832262</td>\n",
       "    </tr>\n",
       "    <tr>\n",
       "      <th>1</th>\n",
       "      <td>68</td>\n",
       "      <td>Haut-Rhin</td>\n",
       "      <td>110496.0</td>\n",
       "      <td>21.0</td>\n",
       "      <td>526190.0</td>\n",
       "      <td>128800.0</td>\n",
       "      <td>24.48</td>\n",
       "      <td>2017</td>\n",
       "      <td>22.231967</td>\n",
       "      <td>25.432557</td>\n",
       "      <td>23.832262</td>\n",
       "    </tr>\n",
       "    <tr>\n",
       "      <th>2</th>\n",
       "      <td>79</td>\n",
       "      <td>Deux-Sèvres</td>\n",
       "      <td>51156.0</td>\n",
       "      <td>18.78</td>\n",
       "      <td>272385.0</td>\n",
       "      <td>57585.0</td>\n",
       "      <td>21.14</td>\n",
       "      <td>2017</td>\n",
       "      <td>22.231967</td>\n",
       "      <td>25.432557</td>\n",
       "      <td>23.832262</td>\n",
       "    </tr>\n",
       "    <tr>\n",
       "      <th>3</th>\n",
       "      <td>78</td>\n",
       "      <td>Yvelines</td>\n",
       "      <td>177485.0</td>\n",
       "      <td>18.66</td>\n",
       "      <td>951148.0</td>\n",
       "      <td>225177.0</td>\n",
       "      <td>23.68</td>\n",
       "      <td>2017</td>\n",
       "      <td>22.231967</td>\n",
       "      <td>25.432557</td>\n",
       "      <td>23.832262</td>\n",
       "    </tr>\n",
       "    <tr>\n",
       "      <th>4</th>\n",
       "      <td>77</td>\n",
       "      <td>Seine-et-Marne</td>\n",
       "      <td>183302.0</td>\n",
       "      <td>20.79</td>\n",
       "      <td>881558.0</td>\n",
       "      <td>228009.0</td>\n",
       "      <td>25.88</td>\n",
       "      <td>2017</td>\n",
       "      <td>22.231967</td>\n",
       "      <td>25.432557</td>\n",
       "      <td>23.832262</td>\n",
       "    </tr>\n",
       "  </tbody>\n",
       "</table>\n",
       "</div>"
      ],
      "text/plain": [
       "  Code du département Libellé du département  Abstentions_t1 % Abs/Ins_t1  \\\n",
       "0                   1                    Ain         81507.0         19.6   \n",
       "1                  68              Haut-Rhin        110496.0         21.0   \n",
       "2                  79            Deux-Sèvres         51156.0        18.78   \n",
       "3                  78               Yvelines        177485.0        18.66   \n",
       "4                  77         Seine-et-Marne        183302.0        20.79   \n",
       "\n",
       "   Inscrits  Abstentions_t2 % Abs/Ins_t2  Année  Abs_nat_t1  Abs_nat_t2  \\\n",
       "0  415886.0         93130.0        22.39   2017   22.231967   25.432557   \n",
       "1  526190.0        128800.0        24.48   2017   22.231967   25.432557   \n",
       "2  272385.0         57585.0        21.14   2017   22.231967   25.432557   \n",
       "3  951148.0        225177.0        23.68   2017   22.231967   25.432557   \n",
       "4  881558.0        228009.0        25.88   2017   22.231967   25.432557   \n",
       "\n",
       "     Abs_nat  \n",
       "0  23.832262  \n",
       "1  23.832262  \n",
       "2  23.832262  \n",
       "3  23.832262  \n",
       "4  23.832262  "
      ]
     },
     "execution_count": 28,
     "metadata": {},
     "output_type": "execute_result"
    }
   ],
   "source": [
    "dep_abs = pd.concat([depa_t1t2_2017, depa_t1t2_2012, depa_t1t2_2007, depa_t1t2_2002], axis = 0)\n",
    "dep_abs.sort_values(by = 'Année', ascending = False, inplace = True)\n",
    "dep_abs.reset_index(inplace = True)\n",
    "dep_abs.drop('index', axis = 1, inplace = True)\n",
    "dep_abs.head()"
   ]
  },
  {
   "cell_type": "code",
   "execution_count": 29,
   "id": "fba8f4bc",
   "metadata": {},
   "outputs": [
    {
     "data": {
      "text/plain": [
       "0     19.6\n",
       "1     21.0\n",
       "2    18.78\n",
       "3    18.66\n",
       "4    20.79\n",
       "Name: % Abs/Ins_t1, dtype: object"
      ]
     },
     "execution_count": 29,
     "metadata": {},
     "output_type": "execute_result"
    }
   ],
   "source": [
    "dep_abs['% Abs/Ins_t1'].head()"
   ]
  },
  {
   "cell_type": "code",
   "execution_count": 30,
   "id": "f7f28750",
   "metadata": {},
   "outputs": [],
   "source": [
    "stripped_virgule_t1 = dep_abs['% Abs/Ins_t1'].astype('str')\n",
    "stripped_virgule_t1 = stripped_virgule_t1.str.replace(',','.')\n",
    "dep_abs['% Abs/Ins_t1'] = stripped_virgule_t1.astype('float')"
   ]
  },
  {
   "cell_type": "code",
   "execution_count": 31,
   "id": "b2239dc1",
   "metadata": {},
   "outputs": [
    {
     "name": "stdout",
     "output_type": "stream",
     "text": [
      "<class 'pandas.core.frame.DataFrame'>\n",
      "RangeIndex: 428 entries, 0 to 427\n",
      "Data columns (total 11 columns):\n",
      " #   Column                  Non-Null Count  Dtype  \n",
      "---  ------                  --------------  -----  \n",
      " 0   Code du département     426 non-null    object \n",
      " 1   Libellé du département  426 non-null    object \n",
      " 2   Abstentions_t1          426 non-null    float64\n",
      " 3   % Abs/Ins_t1            426 non-null    float64\n",
      " 4   Inscrits                427 non-null    float64\n",
      " 5   Abstentions_t2          426 non-null    float64\n",
      " 6   % Abs/Ins_t2            426 non-null    object \n",
      " 7   Année                   428 non-null    int64  \n",
      " 8   Abs_nat_t1              428 non-null    float64\n",
      " 9   Abs_nat_t2              428 non-null    float64\n",
      " 10  Abs_nat                 428 non-null    float64\n",
      "dtypes: float64(7), int64(1), object(3)\n",
      "memory usage: 36.9+ KB\n"
     ]
    }
   ],
   "source": [
    "dep_abs.info()"
   ]
  },
  {
   "cell_type": "code",
   "execution_count": 32,
   "id": "8a7d5bde",
   "metadata": {},
   "outputs": [],
   "source": [
    "stripped_virgule_t2 = dep_abs['% Abs/Ins_t2'].astype('str')\n",
    "stripped_virgule_t2 = stripped_virgule_t2.str.replace(',','.')\n",
    "dep_abs['% Abs/Ins_t2'] = stripped_virgule_t2.astype('float')"
   ]
  },
  {
   "cell_type": "code",
   "execution_count": 33,
   "id": "563f4c9f",
   "metadata": {},
   "outputs": [
    {
     "name": "stdout",
     "output_type": "stream",
     "text": [
      "<class 'pandas.core.frame.DataFrame'>\n",
      "RangeIndex: 428 entries, 0 to 427\n",
      "Data columns (total 11 columns):\n",
      " #   Column                  Non-Null Count  Dtype  \n",
      "---  ------                  --------------  -----  \n",
      " 0   Code du département     426 non-null    object \n",
      " 1   Libellé du département  426 non-null    object \n",
      " 2   Abstentions_t1          426 non-null    float64\n",
      " 3   % Abs/Ins_t1            426 non-null    float64\n",
      " 4   Inscrits                427 non-null    float64\n",
      " 5   Abstentions_t2          426 non-null    float64\n",
      " 6   % Abs/Ins_t2            426 non-null    float64\n",
      " 7   Année                   428 non-null    int64  \n",
      " 8   Abs_nat_t1              428 non-null    float64\n",
      " 9   Abs_nat_t2              428 non-null    float64\n",
      " 10  Abs_nat                 428 non-null    float64\n",
      "dtypes: float64(8), int64(1), object(2)\n",
      "memory usage: 36.9+ KB\n"
     ]
    }
   ],
   "source": [
    "dep_abs.info()"
   ]
  },
  {
   "cell_type": "code",
   "execution_count": 34,
   "id": "8cd158fe",
   "metadata": {},
   "outputs": [],
   "source": [
    "dep_abs['% Abs/Ins'] = dep_abs[['% Abs/Ins_t1', '% Abs/Ins_t2']].mean(axis = 1)"
   ]
  },
  {
   "cell_type": "code",
   "execution_count": 35,
   "id": "51a3b3d3",
   "metadata": {},
   "outputs": [
    {
     "data": {
      "text/plain": [
       "Code du département                 28\n",
       "Libellé du département    EURE ET LOIR\n",
       "Abstentions_t1                 72820.0\n",
       "% Abs/Ins_t1                     26.18\n",
       "Inscrits                      278123.0\n",
       "Abstentions_t2                 53703.0\n",
       "% Abs/Ins_t2                     19.32\n",
       "Année                             2002\n",
       "Abs_nat_t1                   14.199823\n",
       "Abs_nat_t2                   10.145453\n",
       "Abs_nat                      12.172638\n",
       "% Abs/Ins                        22.75\n",
       "Name: 426, dtype: object"
      ]
     },
     "execution_count": 35,
     "metadata": {},
     "output_type": "execute_result"
    }
   ],
   "source": [
    "dep_abs.loc[426]"
   ]
  },
  {
   "cell_type": "code",
   "execution_count": 36,
   "id": "b73f97d4",
   "metadata": {},
   "outputs": [],
   "source": [
    "dep_abs.drop(160, inplace = True)"
   ]
  },
  {
   "cell_type": "code",
   "execution_count": 37,
   "id": "d4c6366f",
   "metadata": {},
   "outputs": [],
   "source": [
    "dep_abs.drop(427, inplace = True)"
   ]
  },
  {
   "cell_type": "code",
   "execution_count": 38,
   "id": "085d8906",
   "metadata": {},
   "outputs": [
    {
     "data": {
      "text/html": [
       "<div>\n",
       "<style scoped>\n",
       "    .dataframe tbody tr th:only-of-type {\n",
       "        vertical-align: middle;\n",
       "    }\n",
       "\n",
       "    .dataframe tbody tr th {\n",
       "        vertical-align: top;\n",
       "    }\n",
       "\n",
       "    .dataframe thead th {\n",
       "        text-align: right;\n",
       "    }\n",
       "</style>\n",
       "<table border=\"1\" class=\"dataframe\">\n",
       "  <thead>\n",
       "    <tr style=\"text-align: right;\">\n",
       "      <th></th>\n",
       "      <th>Code du département</th>\n",
       "      <th>Libellé du département</th>\n",
       "      <th>Abstentions_t1</th>\n",
       "      <th>% Abs/Ins_t1</th>\n",
       "      <th>Inscrits</th>\n",
       "      <th>Abstentions_t2</th>\n",
       "      <th>% Abs/Ins_t2</th>\n",
       "      <th>Année</th>\n",
       "      <th>Abs_nat_t1</th>\n",
       "      <th>Abs_nat_t2</th>\n",
       "      <th>Abs_nat</th>\n",
       "      <th>% Abs/Ins</th>\n",
       "    </tr>\n",
       "  </thead>\n",
       "  <tbody>\n",
       "    <tr>\n",
       "      <th>0</th>\n",
       "      <td>1</td>\n",
       "      <td>Ain</td>\n",
       "      <td>81507.0</td>\n",
       "      <td>19.60</td>\n",
       "      <td>415886.0</td>\n",
       "      <td>93130.0</td>\n",
       "      <td>22.39</td>\n",
       "      <td>2017</td>\n",
       "      <td>22.231967</td>\n",
       "      <td>25.432557</td>\n",
       "      <td>23.832262</td>\n",
       "      <td>20.995</td>\n",
       "    </tr>\n",
       "    <tr>\n",
       "      <th>1</th>\n",
       "      <td>68</td>\n",
       "      <td>Haut-Rhin</td>\n",
       "      <td>110496.0</td>\n",
       "      <td>21.00</td>\n",
       "      <td>526190.0</td>\n",
       "      <td>128800.0</td>\n",
       "      <td>24.48</td>\n",
       "      <td>2017</td>\n",
       "      <td>22.231967</td>\n",
       "      <td>25.432557</td>\n",
       "      <td>23.832262</td>\n",
       "      <td>22.740</td>\n",
       "    </tr>\n",
       "    <tr>\n",
       "      <th>2</th>\n",
       "      <td>79</td>\n",
       "      <td>Deux-Sèvres</td>\n",
       "      <td>51156.0</td>\n",
       "      <td>18.78</td>\n",
       "      <td>272385.0</td>\n",
       "      <td>57585.0</td>\n",
       "      <td>21.14</td>\n",
       "      <td>2017</td>\n",
       "      <td>22.231967</td>\n",
       "      <td>25.432557</td>\n",
       "      <td>23.832262</td>\n",
       "      <td>19.960</td>\n",
       "    </tr>\n",
       "    <tr>\n",
       "      <th>3</th>\n",
       "      <td>78</td>\n",
       "      <td>Yvelines</td>\n",
       "      <td>177485.0</td>\n",
       "      <td>18.66</td>\n",
       "      <td>951148.0</td>\n",
       "      <td>225177.0</td>\n",
       "      <td>23.68</td>\n",
       "      <td>2017</td>\n",
       "      <td>22.231967</td>\n",
       "      <td>25.432557</td>\n",
       "      <td>23.832262</td>\n",
       "      <td>21.170</td>\n",
       "    </tr>\n",
       "    <tr>\n",
       "      <th>4</th>\n",
       "      <td>77</td>\n",
       "      <td>Seine-et-Marne</td>\n",
       "      <td>183302.0</td>\n",
       "      <td>20.79</td>\n",
       "      <td>881558.0</td>\n",
       "      <td>228009.0</td>\n",
       "      <td>25.88</td>\n",
       "      <td>2017</td>\n",
       "      <td>22.231967</td>\n",
       "      <td>25.432557</td>\n",
       "      <td>23.832262</td>\n",
       "      <td>23.335</td>\n",
       "    </tr>\n",
       "  </tbody>\n",
       "</table>\n",
       "</div>"
      ],
      "text/plain": [
       "  Code du département Libellé du département  Abstentions_t1  % Abs/Ins_t1  \\\n",
       "0                   1                    Ain         81507.0         19.60   \n",
       "1                  68              Haut-Rhin        110496.0         21.00   \n",
       "2                  79            Deux-Sèvres         51156.0         18.78   \n",
       "3                  78               Yvelines        177485.0         18.66   \n",
       "4                  77         Seine-et-Marne        183302.0         20.79   \n",
       "\n",
       "   Inscrits  Abstentions_t2  % Abs/Ins_t2  Année  Abs_nat_t1  Abs_nat_t2  \\\n",
       "0  415886.0         93130.0         22.39   2017   22.231967   25.432557   \n",
       "1  526190.0        128800.0         24.48   2017   22.231967   25.432557   \n",
       "2  272385.0         57585.0         21.14   2017   22.231967   25.432557   \n",
       "3  951148.0        225177.0         23.68   2017   22.231967   25.432557   \n",
       "4  881558.0        228009.0         25.88   2017   22.231967   25.432557   \n",
       "\n",
       "     Abs_nat  % Abs/Ins  \n",
       "0  23.832262     20.995  \n",
       "1  23.832262     22.740  \n",
       "2  23.832262     19.960  \n",
       "3  23.832262     21.170  \n",
       "4  23.832262     23.335  "
      ]
     },
     "execution_count": 38,
     "metadata": {},
     "output_type": "execute_result"
    }
   ],
   "source": [
    "dep_abs.head()"
   ]
  },
  {
   "cell_type": "code",
   "execution_count": 39,
   "id": "96fcd853",
   "metadata": {},
   "outputs": [
    {
     "data": {
      "text/plain": [
       "66.21000000000001"
      ]
     },
     "execution_count": 39,
     "metadata": {},
     "output_type": "execute_result"
    }
   ],
   "source": [
    "max(dep_abs['% Abs/Ins'])"
   ]
  },
  {
   "cell_type": "code",
   "execution_count": 40,
   "id": "070b57d9",
   "metadata": {},
   "outputs": [
    {
     "name": "stdout",
     "output_type": "stream",
     "text": [
      "<class 'pandas.core.frame.DataFrame'>\n",
      "Int64Index: 426 entries, 0 to 426\n",
      "Data columns (total 12 columns):\n",
      " #   Column                  Non-Null Count  Dtype  \n",
      "---  ------                  --------------  -----  \n",
      " 0   Code du département     426 non-null    object \n",
      " 1   Libellé du département  426 non-null    object \n",
      " 2   Abstentions_t1          426 non-null    float64\n",
      " 3   % Abs/Ins_t1            426 non-null    float64\n",
      " 4   Inscrits                426 non-null    float64\n",
      " 5   Abstentions_t2          426 non-null    float64\n",
      " 6   % Abs/Ins_t2            426 non-null    float64\n",
      " 7   Année                   426 non-null    int64  \n",
      " 8   Abs_nat_t1              426 non-null    float64\n",
      " 9   Abs_nat_t2              426 non-null    float64\n",
      " 10  Abs_nat                 426 non-null    float64\n",
      " 11  % Abs/Ins               426 non-null    float64\n",
      "dtypes: float64(9), int64(1), object(2)\n",
      "memory usage: 43.3+ KB\n"
     ]
    }
   ],
   "source": [
    "dep_abs.info()"
   ]
  },
  {
   "cell_type": "code",
   "execution_count": 41,
   "id": "d6eb9b4b",
   "metadata": {},
   "outputs": [
    {
     "name": "stdout",
     "output_type": "stream",
     "text": [
      "<class 'pandas.core.frame.DataFrame'>\n",
      "Int64Index: 403 entries, 0 to 426\n",
      "Data columns (total 12 columns):\n",
      " #   Column                  Non-Null Count  Dtype  \n",
      "---  ------                  --------------  -----  \n",
      " 0   Code du département     403 non-null    object \n",
      " 1   Libellé du département  403 non-null    object \n",
      " 2   Abstentions_t1          403 non-null    float64\n",
      " 3   % Abs/Ins_t1            403 non-null    float64\n",
      " 4   Inscrits                403 non-null    float64\n",
      " 5   Abstentions_t2          403 non-null    float64\n",
      " 6   % Abs/Ins_t2            403 non-null    float64\n",
      " 7   Année                   403 non-null    int64  \n",
      " 8   Abs_nat_t1              403 non-null    float64\n",
      " 9   Abs_nat_t2              403 non-null    float64\n",
      " 10  Abs_nat                 403 non-null    float64\n",
      " 11  % Abs/Ins               403 non-null    float64\n",
      "dtypes: float64(9), int64(1), object(2)\n",
      "memory usage: 40.9+ KB\n"
     ]
    }
   ],
   "source": [
    "indexNames = dep_abs[ (dep_abs['Code du département'] == 'ZN') | (dep_abs['Code du département'] == 'ZP') | (dep_abs['Code du département'] == 'ZS') | (dep_abs['Code du département'] == 'ZW') | (dep_abs['Code du département'] == 'ZX') | (dep_abs['Code du département'] == 'ZZ') | (dep_abs['Libellé du département'] == 'Mayotte')].index\n",
    "# Delete these row indexes from dataFrame\n",
    "dep_abs.drop(indexNames , inplace=True)\n",
    "dep_abs.info()"
   ]
  },
  {
   "cell_type": "markdown",
   "id": "3fd0765e",
   "metadata": {},
   "source": [
    "A faire pour la suite :\n",
    "- créer graphique introductif abstention national sur 5 ans (reste stable, comment l'augmenter ?)\n",
    "- créer carte introductive abstention territorial (les départements ne votent pas du tout autant. Conséquence --> l'île de France a un poids plus élevé que la Lozère dans l'éléction de leur dirigeant. Comment y remédier ?)"
   ]
  },
  {
   "cell_type": "markdown",
   "id": "ef701b84",
   "metadata": {},
   "source": [
    "# II Première visualisation"
   ]
  },
  {
   "cell_type": "code",
   "execution_count": 42,
   "id": "cf95e1e8",
   "metadata": {},
   "outputs": [],
   "source": [
    "%matplotlib inline\n",
    "import matplotlib.pyplot as plt"
   ]
  },
  {
   "cell_type": "markdown",
   "id": "11491862",
   "metadata": {},
   "source": [
    "Abstention nationale par année depuis 2002"
   ]
  },
  {
   "cell_type": "code",
   "execution_count": 43,
   "id": "80102121",
   "metadata": {},
   "outputs": [
    {
     "data": {
      "image/png": "[encoded data removed]",
      "text/plain": [
       "<Figure size 432x288 with 1 Axes>"
      ]
     },
     "metadata": {
      "needs_background": "light"
     },
     "output_type": "display_data"
    }
   ],
   "source": [
    "Année = ['2002', '2007', '2012', '2017']\n",
    "val_2002 = dep_abs['Abs_nat'][dep_abs[dep_abs['Année'] == 2002].index[0]]\n",
    "val_2007 = dep_abs['Abs_nat'][dep_abs[dep_abs['Année'] == 2007].index[0]]\n",
    "val_2012 = dep_abs['Abs_nat'][dep_abs[dep_abs['Année'] == 2012].index[0]]\n",
    "val_2017 = dep_abs['Abs_nat'][dep_abs[dep_abs['Année'] == 2017].index[0]]\n",
    "Abstention = [val_2002, val_2007, val_2012, val_2017]\n",
    "plt.bar(Année, Abstention)\n",
    "plt.ylabel('Abstention nationale en %')\n",
    "plt.xlabel('Année')\n",
    "plt.show()"
   ]
  },
  {
   "cell_type": "markdown",
   "id": "5bdf14d5",
   "metadata": {},
   "source": [
    "Abstention par département en 2017"
   ]
  },
  {
   "cell_type": "code",
   "execution_count": 44,
   "id": "5f9bdd21",
   "metadata": {},
   "outputs": [
    {
     "data": {
      "text/plain": [
       "Text(0.5, 1.0, 'Abstentions / dep 2017')"
      ]
     },
     "execution_count": 44,
     "metadata": {},
     "output_type": "execute_result"
    },
    {
     "data": {
      "image/png": "[encoded data removed]",
      "text/plain": [
       "<Figure size 864x432 with 1 Axes>"
      ]
     },
     "metadata": {
      "needs_background": "light"
     },
     "output_type": "display_data"
    }
   ],
   "source": [
    "Départements = []\n",
    "for dep in dep_abs['Code du département'][dep_abs['Année'] == 2017]:\n",
    "    Départements.append(dep)\n",
    "Abstentions = []\n",
    "for ab in dep_abs['% Abs/Ins'][dep_abs['Année'] == 2017]:\n",
    "    Abstentions.append(ab)\n",
    "\n",
    "fig, axes = plt.subplots(figsize=(12,6))\n",
    "\n",
    "axes.plot(Départements, Abstentions)\n",
    "axes.set_xlabel('Départements')\n",
    "axes.set_ylabel('Abstentions')\n",
    "axes.set_title('Abstentions / dep 2017')"
   ]
  },
  {
   "cell_type": "code",
   "execution_count": 45,
   "id": "5c00be4b",
   "metadata": {},
   "outputs": [
    {
     "data": {
      "text/plain": [
       "100"
      ]
     },
     "execution_count": 45,
     "metadata": {},
     "output_type": "execute_result"
    }
   ],
   "source": [
    "len(Départements)"
   ]
  },
  {
   "cell_type": "markdown",
   "id": "7549a239",
   "metadata": {},
   "source": [
    "Insérer ici les graphiques géographiques que vous avez vu en cours (vous serez plus rapide que moi)"
   ]
  },
  {
   "cell_type": "markdown",
   "id": "5cfc5031",
   "metadata": {},
   "source": [
    "# III Agrégation des données de tendances de votes par département\n",
    "(Héléna)"
   ]
  },
  {
   "cell_type": "code",
   "execution_count": 46,
   "id": "bb05ad8b",
   "metadata": {},
   "outputs": [],
   "source": [
    "trend_t1_2012 = pd.read_excel('participation_2012_datagouv.xls', sheet_name = \"Départements T1\")\n",
    "trend_t2_2012 = pd.read_excel('participation_2012_datagouv.xls', sheet_name = \"Départements T2\")"
   ]
  },
  {
   "cell_type": "code",
   "execution_count": 47,
   "id": "bc0c200e",
   "metadata": {},
   "outputs": [
    {
     "data": {
      "text/html": [
       "<div>\n",
       "<style scoped>\n",
       "    .dataframe tbody tr th:only-of-type {\n",
       "        vertical-align: middle;\n",
       "    }\n",
       "\n",
       "    .dataframe tbody tr th {\n",
       "        vertical-align: top;\n",
       "    }\n",
       "\n",
       "    .dataframe thead th {\n",
       "        text-align: right;\n",
       "    }\n",
       "</style>\n",
       "<table border=\"1\" class=\"dataframe\">\n",
       "  <thead>\n",
       "    <tr style=\"text-align: right;\">\n",
       "      <th></th>\n",
       "      <th>Code du département</th>\n",
       "      <th>Libellé du département</th>\n",
       "      <th>Inscrits</th>\n",
       "      <th>Abstentions</th>\n",
       "      <th>% Abs/Ins</th>\n",
       "      <th>Votants</th>\n",
       "      <th>% Vot/Ins</th>\n",
       "      <th>Blancs et nuls</th>\n",
       "      <th>% BlNuls/Ins</th>\n",
       "      <th>% BlNuls/Vot</th>\n",
       "      <th>...</th>\n",
       "      <th>Prénom</th>\n",
       "      <th>Voix</th>\n",
       "      <th>% Voix/Ins</th>\n",
       "      <th>% Voix/Exp</th>\n",
       "      <th>Sexe.1</th>\n",
       "      <th>Nom.1</th>\n",
       "      <th>Prénom.1</th>\n",
       "      <th>Voix.1</th>\n",
       "      <th>% Voix/Ins.1</th>\n",
       "      <th>% Voix/Exp.1</th>\n",
       "    </tr>\n",
       "  </thead>\n",
       "  <tbody>\n",
       "    <tr>\n",
       "      <th>0</th>\n",
       "      <td>1</td>\n",
       "      <td>AIN</td>\n",
       "      <td>393866</td>\n",
       "      <td>67279.0</td>\n",
       "      <td>17.08</td>\n",
       "      <td>326587.0</td>\n",
       "      <td>82.92</td>\n",
       "      <td>19513.0</td>\n",
       "      <td>4.95</td>\n",
       "      <td>5.97</td>\n",
       "      <td>...</td>\n",
       "      <td>François</td>\n",
       "      <td>131333.0</td>\n",
       "      <td>33.34</td>\n",
       "      <td>42.77</td>\n",
       "      <td>M</td>\n",
       "      <td>SARKOZY</td>\n",
       "      <td>Nicolas</td>\n",
       "      <td>175741.0</td>\n",
       "      <td>44.62</td>\n",
       "      <td>57.23</td>\n",
       "    </tr>\n",
       "    <tr>\n",
       "      <th>1</th>\n",
       "      <td>2</td>\n",
       "      <td>AISNE</td>\n",
       "      <td>376073</td>\n",
       "      <td>73997.0</td>\n",
       "      <td>19.68</td>\n",
       "      <td>302076.0</td>\n",
       "      <td>80.32</td>\n",
       "      <td>21056.0</td>\n",
       "      <td>5.60</td>\n",
       "      <td>6.97</td>\n",
       "      <td>...</td>\n",
       "      <td>François</td>\n",
       "      <td>147260.0</td>\n",
       "      <td>39.16</td>\n",
       "      <td>52.40</td>\n",
       "      <td>M</td>\n",
       "      <td>SARKOZY</td>\n",
       "      <td>Nicolas</td>\n",
       "      <td>133760.0</td>\n",
       "      <td>35.57</td>\n",
       "      <td>47.60</td>\n",
       "    </tr>\n",
       "    <tr>\n",
       "      <th>2</th>\n",
       "      <td>3</td>\n",
       "      <td>ALLIER</td>\n",
       "      <td>256211</td>\n",
       "      <td>45079.0</td>\n",
       "      <td>17.59</td>\n",
       "      <td>211132.0</td>\n",
       "      <td>82.41</td>\n",
       "      <td>14924.0</td>\n",
       "      <td>5.82</td>\n",
       "      <td>7.07</td>\n",
       "      <td>...</td>\n",
       "      <td>François</td>\n",
       "      <td>111615.0</td>\n",
       "      <td>43.56</td>\n",
       "      <td>56.89</td>\n",
       "      <td>M</td>\n",
       "      <td>SARKOZY</td>\n",
       "      <td>Nicolas</td>\n",
       "      <td>84593.0</td>\n",
       "      <td>33.02</td>\n",
       "      <td>43.11</td>\n",
       "    </tr>\n",
       "    <tr>\n",
       "      <th>3</th>\n",
       "      <td>4</td>\n",
       "      <td>ALPES DE HAUTE PROVENCE</td>\n",
       "      <td>123895</td>\n",
       "      <td>20314.0</td>\n",
       "      <td>16.40</td>\n",
       "      <td>103581.0</td>\n",
       "      <td>83.60</td>\n",
       "      <td>6639.0</td>\n",
       "      <td>5.36</td>\n",
       "      <td>6.41</td>\n",
       "      <td>...</td>\n",
       "      <td>François</td>\n",
       "      <td>49498.0</td>\n",
       "      <td>39.95</td>\n",
       "      <td>51.06</td>\n",
       "      <td>M</td>\n",
       "      <td>SARKOZY</td>\n",
       "      <td>Nicolas</td>\n",
       "      <td>47444.0</td>\n",
       "      <td>38.29</td>\n",
       "      <td>48.94</td>\n",
       "    </tr>\n",
       "    <tr>\n",
       "      <th>4</th>\n",
       "      <td>5</td>\n",
       "      <td>HAUTES ALPES</td>\n",
       "      <td>106875</td>\n",
       "      <td>17470.0</td>\n",
       "      <td>16.35</td>\n",
       "      <td>89405.0</td>\n",
       "      <td>83.65</td>\n",
       "      <td>6025.0</td>\n",
       "      <td>5.64</td>\n",
       "      <td>6.74</td>\n",
       "      <td>...</td>\n",
       "      <td>François</td>\n",
       "      <td>42435.0</td>\n",
       "      <td>39.71</td>\n",
       "      <td>50.89</td>\n",
       "      <td>M</td>\n",
       "      <td>SARKOZY</td>\n",
       "      <td>Nicolas</td>\n",
       "      <td>40945.0</td>\n",
       "      <td>38.31</td>\n",
       "      <td>49.11</td>\n",
       "    </tr>\n",
       "  </tbody>\n",
       "</table>\n",
       "<p>5 rows × 25 columns</p>\n",
       "</div>"
      ],
      "text/plain": [
       "  Code du département   Libellé du département  Inscrits  Abstentions  \\\n",
       "0                   1                      AIN    393866      67279.0   \n",
       "1                   2                    AISNE    376073      73997.0   \n",
       "2                   3                   ALLIER    256211      45079.0   \n",
       "3                   4  ALPES DE HAUTE PROVENCE    123895      20314.0   \n",
       "4                   5             HAUTES ALPES    106875      17470.0   \n",
       "\n",
       "   % Abs/Ins   Votants  % Vot/Ins  Blancs et nuls  % BlNuls/Ins  % BlNuls/Vot  \\\n",
       "0      17.08  326587.0      82.92         19513.0          4.95          5.97   \n",
       "1      19.68  302076.0      80.32         21056.0          5.60          6.97   \n",
       "2      17.59  211132.0      82.41         14924.0          5.82          7.07   \n",
       "3      16.40  103581.0      83.60          6639.0          5.36          6.41   \n",
       "4      16.35   89405.0      83.65          6025.0          5.64          6.74   \n",
       "\n",
       "   ...    Prénom      Voix  % Voix/Ins % Voix/Exp Sexe.1    Nom.1  Prénom.1  \\\n",
       "0  ...  François  131333.0       33.34      42.77      M  SARKOZY   Nicolas   \n",
       "1  ...  François  147260.0       39.16      52.40      M  SARKOZY   Nicolas   \n",
       "2  ...  François  111615.0       43.56      56.89      M  SARKOZY   Nicolas   \n",
       "3  ...  François   49498.0       39.95      51.06      M  SARKOZY   Nicolas   \n",
       "4  ...  François   42435.0       39.71      50.89      M  SARKOZY   Nicolas   \n",
       "\n",
       "     Voix.1  % Voix/Ins.1 % Voix/Exp.1  \n",
       "0  175741.0         44.62        57.23  \n",
       "1  133760.0         35.57        47.60  \n",
       "2   84593.0         33.02        43.11  \n",
       "3   47444.0         38.29        48.94  \n",
       "4   40945.0         38.31        49.11  \n",
       "\n",
       "[5 rows x 25 columns]"
      ]
     },
     "execution_count": 47,
     "metadata": {},
     "output_type": "execute_result"
    }
   ],
   "source": [
    "trend_t2_2012.head()"
   ]
  },
  {
   "cell_type": "markdown",
   "id": "aadec2ea",
   "metadata": {},
   "source": [
    "On donne une valeur à tous les candidats"
   ]
  },
  {
   "cell_type": "code",
   "execution_count": 48,
   "id": "fb9afe31",
   "metadata": {},
   "outputs": [],
   "source": [
    "echelle = {\"JOLY\": -7, \"LE PEN\" : 10, \"SARKOZY\": 6,\"MÉLENCHON\" : -9 ,\"POUTOU\" : -10,\"ARTHAUD\" : -10,\"CHEMINADE\" : -5,\"BAYROU\" : 0,\"DUPONT-AIGNAN\": 8,\"HOLLANDE\" : -4}"
   ]
  },
  {
   "cell_type": "code",
   "execution_count": 49,
   "id": "40dd5fb9",
   "metadata": {},
   "outputs": [],
   "source": [
    "def indice_tendance(df, code_dep):\n",
    "    #trouver la ligne l du dep dans le dataset\n",
    "    l = df.loc[df['Code du département'] == code_dep]\n",
    "    i = 0 #indice de tendance\n",
    "    tab = l.reset_index().values[0].tolist() # convert en liste\n",
    "    \n",
    "    for j in range(10):\n",
    "        nom = tab[15+6*j] \n",
    "        val = echelle[nom]\n",
    "        i += val * tab[19+6*j] \n",
    "        # les lignes ont toutes la meme structure : le premier nom est en colonne 14, puis le suivant en +6, +6, ...\n",
    "        # on multiplie la note d'un candidat par le pourcentage de voix parmis les exprimés\n",
    "    return i*0.01"
   ]
  },
  {
   "cell_type": "code",
   "execution_count": 50,
   "id": "2b8fe032",
   "metadata": {},
   "outputs": [
    {
     "data": {
      "text/plain": [
       "2.4876"
      ]
     },
     "execution_count": 50,
     "metadata": {},
     "output_type": "execute_result"
    }
   ],
   "source": [
    "indice_tendance(trend_t1_2012, '2A')"
   ]
  },
  {
   "cell_type": "code",
   "execution_count": 51,
   "id": "86d98ea1",
   "metadata": {},
   "outputs": [
    {
     "name": "stdout",
     "output_type": "stream",
     "text": [
      "                       Departement\n",
      "0                              AIN\n",
      "1                            AISNE\n",
      "2                           ALLIER\n",
      "3          ALPES DE HAUTE PROVENCE\n",
      "4                     HAUTES ALPES\n",
      "..                             ...\n",
      "102            POLYNESIE FRANCAISE\n",
      "103       SAINT PIERRE ET MIQUELON\n",
      "104               WALLIS-ET-FUTUNA\n",
      "105  SAINT-MARTIN/SAINT-BARTHELEMY\n",
      "106         FRANCAIS DE L'ETRANGER\n",
      "\n",
      "[107 rows x 1 columns]\n"
     ]
    }
   ],
   "source": [
    "#exemple de dataframe basique\n",
    "\n",
    "departement=trend_t1_2012['Libellé du département'].tolist()\n",
    "\n",
    "\n",
    "df = pd.DataFrame({'Departement':departement})\n",
    "print(df)"
   ]
  },
  {
   "cell_type": "code",
   "execution_count": 52,
   "id": "07ae59b8",
   "metadata": {},
   "outputs": [
    {
     "name": "stdout",
     "output_type": "stream",
     "text": [
      "                       Departement  indice_tendance\n",
      "0                              AIN           1.9692\n",
      "1                            AISNE           1.9330\n",
      "2                           ALLIER           0.7043\n",
      "3          ALPES DE HAUTE PROVENCE           1.0040\n",
      "4                     HAUTES ALPES           0.8032\n",
      "..                             ...              ...\n",
      "102            POLYNESIE FRANCAISE           1.5591\n",
      "103       SAINT PIERRE ET MIQUELON          -0.4435\n",
      "104               WALLIS-ET-FUTUNA           0.2404\n",
      "105  SAINT-MARTIN/SAINT-BARTHELEMY           1.9621\n",
      "106         FRANCAIS DE L'ETRANGER           0.5981\n",
      "\n",
      "[107 rows x 2 columns]\n"
     ]
    }
   ],
   "source": [
    "#on ajoute la colonne\n",
    "\n",
    "indice = []\n",
    "liste_dep =trend_t1_2012['Code du département'].tolist() \n",
    "\n",
    "for i in liste_dep: \n",
    "    indice += [indice_tendance(trend_t1_2012, i)]\n",
    "\n",
    "df['indice_tendance'] = indice\n",
    "print(df)"
   ]
  },
  {
   "cell_type": "code",
   "execution_count": null,
   "id": "5de46eb7",
   "metadata": {},
   "outputs": [],
   "source": []
  },
  {
   "cell_type": "markdown",
   "id": "5d3cab9d",
   "metadata": {},
   "source": [
    "# IV Ajout de certaines features socio-économiques"
   ]
  },
  {
   "cell_type": "markdown",
   "id": "93334979",
   "metadata": {},
   "source": [
    "### Création d'un dataframe pour la pop active qu'on rajoute à dep_abs"
   ]
  },
  {
   "cell_type": "code",
   "execution_count": 53,
   "id": "7adc8c31",
   "metadata": {},
   "outputs": [],
   "source": [
    "dep_test = dep_abs"
   ]
  },
  {
   "cell_type": "code",
   "execution_count": 54,
   "id": "f1e2aa89",
   "metadata": {},
   "outputs": [
    {
     "name": "stdout",
     "output_type": "stream",
     "text": [
      "['Présentation', 'Documentation', 'Modifications_territoriales', 'DEP_1968', 'Feuil1', 'DEP_1975', 'DEP_1982', 'DEP_1990', 'DEP_1999', 'DEP_2007', 'DEP_2012', 'DEP_2017', 'COM_1968', 'COM_1975', 'COM_1982', 'COM_1990', 'COM_1999', 'COM_2007', 'COM_2012', 'COM_2017']\n"
     ]
    }
   ],
   "source": [
    "pop_active_dep = pd.read_excel('pop_active_dep.xls')\n",
    "xls_1 = pd.ExcelFile('pop_active_dep.xls')\n",
    "print(xls_1.sheet_names)"
   ]
  },
  {
   "cell_type": "code",
   "execution_count": 55,
   "id": "1e301ba5",
   "metadata": {},
   "outputs": [],
   "source": [
    "pop_active_dep_2017 = pd.read_excel('pop_active_dep.xls', sheet_name = \"DEP_2017\")\n",
    "pop_active_dep_2012 = pd.read_excel('pop_active_dep.xls', sheet_name = \"DEP_2012\")\n",
    "pop_active_dep_2007 = pd.read_excel('pop_active_dep.xls', sheet_name = \"DEP_2007\")"
   ]
  },
  {
   "cell_type": "code",
   "execution_count": 56,
   "id": "b9b75941",
   "metadata": {},
   "outputs": [
    {
     "data": {
      "text/plain": [
       "Index(['Région', 'Département', 'Libellé de\\ndépartement',\n",
       "       'Hommes\\nActifs ayant un emploi\\nRP2017', 'Hommes\\nChômeurs\\nRP2017',\n",
       "       'Femmes\\nActifs ayant un emploi\\nRP2017', 'Femmes\\nChômeurs\\nRP2017'],\n",
       "      dtype='object')"
      ]
     },
     "execution_count": 56,
     "metadata": {},
     "output_type": "execute_result"
    }
   ],
   "source": [
    "pop_active_dep_2017.columns"
   ]
  },
  {
   "cell_type": "code",
   "execution_count": 57,
   "id": "94cede08",
   "metadata": {},
   "outputs": [],
   "source": [
    "pop_active_dep_2017.rename(columns={'Hommes\\nActifs ayant un emploi\\nRP2017': 'Hommes actifs ayant un emplois', 'Hommes\\nChômeurs\\nRP2017': 'Hommes chômeurs', 'Femmes\\nActifs ayant un emploi\\nRP2017' : 'Femmes actifs ayant un emploi', 'Femmes\\nChômeurs\\nRP2017' : 'Femmes chomeurs'}, inplace = True)\n",
    "pop_active_dep_2012.rename(columns={'Hommes\\nActifs ayant un emploi\\nRP2012': 'Hommes actifs ayant un emplois', 'Hommes\\nChômeurs\\nRP2012': 'Hommes chômeurs', 'Femmes\\nActifs ayant un emploi\\nRP2012' : 'Femmes actifs ayant un emploi', 'Femmes\\nChômeurs\\nRP2012' : 'Femmes chomeurs'}, inplace = True)\n",
    "pop_active_dep_2007.rename(columns={'Hommes\\nActifs ayant un emploi\\nRP2007': 'Hommes actifs ayant un emplois', 'Hommes\\nChômeurs\\nRP2007': 'Hommes chômeurs', 'Femmes\\nActifs ayant un emploi\\nRP2007' : 'Femmes actifs ayant un emploi', 'Femmes\\nChômeurs\\nRP2007' : 'Femmes chomeurs'}, inplace = True)\n",
    "pop_active_dep_2017['Année de contrôle'] = 2017\n",
    "pop_active_dep_2012['Année de contrôle'] = 2012\n",
    "pop_active_dep_2007['Année de contrôle'] = 2007\n"
   ]
  },
  {
   "cell_type": "code",
   "execution_count": 129,
   "id": "8db3c569",
   "metadata": {},
   "outputs": [
    {
     "data": {
      "text/plain": [
       "Index(['Hommes actifs ayant un emplois', 'Hommes chômeurs',\n",
       "       'Femmes actifs ayant un emploi', 'Femmes chomeurs',\n",
       "       'Année de contrôle'],\n",
       "      dtype='object')"
      ]
     },
     "execution_count": 129,
     "metadata": {},
     "output_type": "execute_result"
    }
   ],
   "source": [
    "pop_active = pd.concat([pop_active_dep_2017, pop_active_dep_2012, pop_active_dep_2007], axis = 0)\n",
    "pop_active.sort_values(by = 'Année de contrôle', ascending = False, inplace = True)\n",
    "pop_active.reset_index(inplace = True)\n",
    "pop_active.drop('index', axis = 1, inplace = True)\n",
    "pop_active.drop(['Libellé de\\ndépartement', 'Département', 'Région'], axis = 1, inplace = True)\n",
    "pop_active.columns"
   ]
  },
  {
   "cell_type": "code",
   "execution_count": 59,
   "id": "f1635ef9",
   "metadata": {},
   "outputs": [
    {
     "data": {
      "text/html": [
       "<div>\n",
       "<style scoped>\n",
       "    .dataframe tbody tr th:only-of-type {\n",
       "        vertical-align: middle;\n",
       "    }\n",
       "\n",
       "    .dataframe tbody tr th {\n",
       "        vertical-align: top;\n",
       "    }\n",
       "\n",
       "    .dataframe thead th {\n",
       "        text-align: right;\n",
       "    }\n",
       "</style>\n",
       "<table border=\"1\" class=\"dataframe\">\n",
       "  <thead>\n",
       "    <tr style=\"text-align: right;\">\n",
       "      <th></th>\n",
       "      <th>Code du département</th>\n",
       "      <th>Libellé du département</th>\n",
       "      <th>Abstentions_t1</th>\n",
       "      <th>% Abs/Ins_t1</th>\n",
       "      <th>Inscrits</th>\n",
       "      <th>Abstentions_t2</th>\n",
       "      <th>% Abs/Ins_t2</th>\n",
       "      <th>Année</th>\n",
       "      <th>Abs_nat_t1</th>\n",
       "      <th>Abs_nat_t2</th>\n",
       "      <th>Abs_nat</th>\n",
       "      <th>% Abs/Ins</th>\n",
       "      <th>Hommes actifs ayant un emplois</th>\n",
       "      <th>Hommes chômeurs</th>\n",
       "      <th>Femmes actifs ayant un emploi</th>\n",
       "      <th>Femmes chomeurs</th>\n",
       "    </tr>\n",
       "  </thead>\n",
       "  <tbody>\n",
       "    <tr>\n",
       "      <th>0</th>\n",
       "      <td>1</td>\n",
       "      <td>Ain</td>\n",
       "      <td>81507.0</td>\n",
       "      <td>19.60</td>\n",
       "      <td>415886.0</td>\n",
       "      <td>93130.0</td>\n",
       "      <td>22.39</td>\n",
       "      <td>2017.0</td>\n",
       "      <td>22.231967</td>\n",
       "      <td>25.432557</td>\n",
       "      <td>23.832262</td>\n",
       "      <td>20.995</td>\n",
       "      <td>113128.924731</td>\n",
       "      <td>9710.095614</td>\n",
       "      <td>102942.302884</td>\n",
       "      <td>11837.796424</td>\n",
       "    </tr>\n",
       "    <tr>\n",
       "      <th>1</th>\n",
       "      <td>68</td>\n",
       "      <td>Haut-Rhin</td>\n",
       "      <td>110496.0</td>\n",
       "      <td>21.00</td>\n",
       "      <td>526190.0</td>\n",
       "      <td>128800.0</td>\n",
       "      <td>24.48</td>\n",
       "      <td>2017.0</td>\n",
       "      <td>22.231967</td>\n",
       "      <td>25.432557</td>\n",
       "      <td>23.832262</td>\n",
       "      <td>22.740</td>\n",
       "      <td>103459.349176</td>\n",
       "      <td>11301.288792</td>\n",
       "      <td>99163.503139</td>\n",
       "      <td>13741.282958</td>\n",
       "    </tr>\n",
       "    <tr>\n",
       "      <th>2</th>\n",
       "      <td>79</td>\n",
       "      <td>Deux-Sèvres</td>\n",
       "      <td>51156.0</td>\n",
       "      <td>18.78</td>\n",
       "      <td>272385.0</td>\n",
       "      <td>57585.0</td>\n",
       "      <td>21.14</td>\n",
       "      <td>2017.0</td>\n",
       "      <td>22.231967</td>\n",
       "      <td>25.432557</td>\n",
       "      <td>23.832262</td>\n",
       "      <td>19.960</td>\n",
       "      <td>77478.125904</td>\n",
       "      <td>13467.847594</td>\n",
       "      <td>69181.374652</td>\n",
       "      <td>13684.273197</td>\n",
       "    </tr>\n",
       "    <tr>\n",
       "      <th>3</th>\n",
       "      <td>78</td>\n",
       "      <td>Yvelines</td>\n",
       "      <td>177485.0</td>\n",
       "      <td>18.66</td>\n",
       "      <td>951148.0</td>\n",
       "      <td>225177.0</td>\n",
       "      <td>23.68</td>\n",
       "      <td>2017.0</td>\n",
       "      <td>22.231967</td>\n",
       "      <td>25.432557</td>\n",
       "      <td>23.832262</td>\n",
       "      <td>21.170</td>\n",
       "      <td>72900.805673</td>\n",
       "      <td>6006.829282</td>\n",
       "      <td>67701.750400</td>\n",
       "      <td>7079.159822</td>\n",
       "    </tr>\n",
       "    <tr>\n",
       "      <th>4</th>\n",
       "      <td>77</td>\n",
       "      <td>Seine-et-Marne</td>\n",
       "      <td>183302.0</td>\n",
       "      <td>20.79</td>\n",
       "      <td>881558.0</td>\n",
       "      <td>228009.0</td>\n",
       "      <td>25.88</td>\n",
       "      <td>2017.0</td>\n",
       "      <td>22.231967</td>\n",
       "      <td>25.432557</td>\n",
       "      <td>23.832262</td>\n",
       "      <td>23.335</td>\n",
       "      <td>85678.258394</td>\n",
       "      <td>9915.171930</td>\n",
       "      <td>80875.471851</td>\n",
       "      <td>11474.043492</td>\n",
       "    </tr>\n",
       "  </tbody>\n",
       "</table>\n",
       "</div>"
      ],
      "text/plain": [
       "  Code du département Libellé du département  Abstentions_t1  % Abs/Ins_t1  \\\n",
       "0                   1                    Ain         81507.0         19.60   \n",
       "1                  68              Haut-Rhin        110496.0         21.00   \n",
       "2                  79            Deux-Sèvres         51156.0         18.78   \n",
       "3                  78               Yvelines        177485.0         18.66   \n",
       "4                  77         Seine-et-Marne        183302.0         20.79   \n",
       "\n",
       "   Inscrits  Abstentions_t2  % Abs/Ins_t2   Année  Abs_nat_t1  Abs_nat_t2  \\\n",
       "0  415886.0         93130.0         22.39  2017.0   22.231967   25.432557   \n",
       "1  526190.0        128800.0         24.48  2017.0   22.231967   25.432557   \n",
       "2  272385.0         57585.0         21.14  2017.0   22.231967   25.432557   \n",
       "3  951148.0        225177.0         23.68  2017.0   22.231967   25.432557   \n",
       "4  881558.0        228009.0         25.88  2017.0   22.231967   25.432557   \n",
       "\n",
       "     Abs_nat  % Abs/Ins  Hommes actifs ayant un emplois  Hommes chômeurs  \\\n",
       "0  23.832262     20.995                   113128.924731      9710.095614   \n",
       "1  23.832262     22.740                   103459.349176     11301.288792   \n",
       "2  23.832262     19.960                    77478.125904     13467.847594   \n",
       "3  23.832262     21.170                    72900.805673      6006.829282   \n",
       "4  23.832262     23.335                    85678.258394      9915.171930   \n",
       "\n",
       "   Femmes actifs ayant un emploi  Femmes chomeurs  \n",
       "0                  102942.302884     11837.796424  \n",
       "1                   99163.503139     13741.282958  \n",
       "2                   69181.374652     13684.273197  \n",
       "3                   67701.750400      7079.159822  \n",
       "4                   80875.471851     11474.043492  "
      ]
     },
     "execution_count": 59,
     "metadata": {},
     "output_type": "execute_result"
    }
   ],
   "source": [
    "dep_abs = pd.concat([dep_test, pop_active], axis = 1)\n",
    "dep_abs.drop('Année de contrôle', axis = 1, inplace = True)\n",
    "dep_abs.head()"
   ]
  },
  {
   "cell_type": "markdown",
   "id": "74eb7d67",
   "metadata": {},
   "source": [
    "On rajoute des colonnes sur la moyenne des chômeurs Femmes, Hommes et totales"
   ]
  },
  {
   "cell_type": "code",
   "execution_count": 60,
   "id": "3d5f3e64",
   "metadata": {},
   "outputs": [
    {
     "data": {
      "text/html": [
       "<div>\n",
       "<style scoped>\n",
       "    .dataframe tbody tr th:only-of-type {\n",
       "        vertical-align: middle;\n",
       "    }\n",
       "\n",
       "    .dataframe tbody tr th {\n",
       "        vertical-align: top;\n",
       "    }\n",
       "\n",
       "    .dataframe thead th {\n",
       "        text-align: right;\n",
       "    }\n",
       "</style>\n",
       "<table border=\"1\" class=\"dataframe\">\n",
       "  <thead>\n",
       "    <tr style=\"text-align: right;\">\n",
       "      <th></th>\n",
       "      <th>Code du département</th>\n",
       "      <th>Libellé du département</th>\n",
       "      <th>Abstentions_t1</th>\n",
       "      <th>% Abs/Ins_t1</th>\n",
       "      <th>Inscrits</th>\n",
       "      <th>Abstentions_t2</th>\n",
       "      <th>% Abs/Ins_t2</th>\n",
       "      <th>Année</th>\n",
       "      <th>Abs_nat_t1</th>\n",
       "      <th>Abs_nat_t2</th>\n",
       "      <th>Abs_nat</th>\n",
       "      <th>% Abs/Ins</th>\n",
       "      <th>Hommes actifs ayant un emplois</th>\n",
       "      <th>Hommes chômeurs</th>\n",
       "      <th>Femmes actifs ayant un emploi</th>\n",
       "      <th>Femmes chomeurs</th>\n",
       "      <th>pop active ayant un emploi</th>\n",
       "      <th>pop chômeurs</th>\n",
       "    </tr>\n",
       "  </thead>\n",
       "  <tbody>\n",
       "    <tr>\n",
       "      <th>0</th>\n",
       "      <td>1</td>\n",
       "      <td>Ain</td>\n",
       "      <td>81507.0</td>\n",
       "      <td>19.60</td>\n",
       "      <td>415886.0</td>\n",
       "      <td>93130.0</td>\n",
       "      <td>22.39</td>\n",
       "      <td>2017.0</td>\n",
       "      <td>22.231967</td>\n",
       "      <td>25.432557</td>\n",
       "      <td>23.832262</td>\n",
       "      <td>20.995</td>\n",
       "      <td>113128.924731</td>\n",
       "      <td>9710.095614</td>\n",
       "      <td>102942.302884</td>\n",
       "      <td>11837.796424</td>\n",
       "      <td>108035.613808</td>\n",
       "      <td>10773.946019</td>\n",
       "    </tr>\n",
       "    <tr>\n",
       "      <th>1</th>\n",
       "      <td>68</td>\n",
       "      <td>Haut-Rhin</td>\n",
       "      <td>110496.0</td>\n",
       "      <td>21.00</td>\n",
       "      <td>526190.0</td>\n",
       "      <td>128800.0</td>\n",
       "      <td>24.48</td>\n",
       "      <td>2017.0</td>\n",
       "      <td>22.231967</td>\n",
       "      <td>25.432557</td>\n",
       "      <td>23.832262</td>\n",
       "      <td>22.740</td>\n",
       "      <td>103459.349176</td>\n",
       "      <td>11301.288792</td>\n",
       "      <td>99163.503139</td>\n",
       "      <td>13741.282958</td>\n",
       "      <td>101311.426157</td>\n",
       "      <td>12521.285875</td>\n",
       "    </tr>\n",
       "    <tr>\n",
       "      <th>2</th>\n",
       "      <td>79</td>\n",
       "      <td>Deux-Sèvres</td>\n",
       "      <td>51156.0</td>\n",
       "      <td>18.78</td>\n",
       "      <td>272385.0</td>\n",
       "      <td>57585.0</td>\n",
       "      <td>21.14</td>\n",
       "      <td>2017.0</td>\n",
       "      <td>22.231967</td>\n",
       "      <td>25.432557</td>\n",
       "      <td>23.832262</td>\n",
       "      <td>19.960</td>\n",
       "      <td>77478.125904</td>\n",
       "      <td>13467.847594</td>\n",
       "      <td>69181.374652</td>\n",
       "      <td>13684.273197</td>\n",
       "      <td>73329.750278</td>\n",
       "      <td>13576.060396</td>\n",
       "    </tr>\n",
       "    <tr>\n",
       "      <th>3</th>\n",
       "      <td>78</td>\n",
       "      <td>Yvelines</td>\n",
       "      <td>177485.0</td>\n",
       "      <td>18.66</td>\n",
       "      <td>951148.0</td>\n",
       "      <td>225177.0</td>\n",
       "      <td>23.68</td>\n",
       "      <td>2017.0</td>\n",
       "      <td>22.231967</td>\n",
       "      <td>25.432557</td>\n",
       "      <td>23.832262</td>\n",
       "      <td>21.170</td>\n",
       "      <td>72900.805673</td>\n",
       "      <td>6006.829282</td>\n",
       "      <td>67701.750400</td>\n",
       "      <td>7079.159822</td>\n",
       "      <td>70301.278037</td>\n",
       "      <td>6542.994552</td>\n",
       "    </tr>\n",
       "    <tr>\n",
       "      <th>4</th>\n",
       "      <td>77</td>\n",
       "      <td>Seine-et-Marne</td>\n",
       "      <td>183302.0</td>\n",
       "      <td>20.79</td>\n",
       "      <td>881558.0</td>\n",
       "      <td>228009.0</td>\n",
       "      <td>25.88</td>\n",
       "      <td>2017.0</td>\n",
       "      <td>22.231967</td>\n",
       "      <td>25.432557</td>\n",
       "      <td>23.832262</td>\n",
       "      <td>23.335</td>\n",
       "      <td>85678.258394</td>\n",
       "      <td>9915.171930</td>\n",
       "      <td>80875.471851</td>\n",
       "      <td>11474.043492</td>\n",
       "      <td>83276.865122</td>\n",
       "      <td>10694.607711</td>\n",
       "    </tr>\n",
       "  </tbody>\n",
       "</table>\n",
       "</div>"
      ],
      "text/plain": [
       "  Code du département Libellé du département  Abstentions_t1  % Abs/Ins_t1  \\\n",
       "0                   1                    Ain         81507.0         19.60   \n",
       "1                  68              Haut-Rhin        110496.0         21.00   \n",
       "2                  79            Deux-Sèvres         51156.0         18.78   \n",
       "3                  78               Yvelines        177485.0         18.66   \n",
       "4                  77         Seine-et-Marne        183302.0         20.79   \n",
       "\n",
       "   Inscrits  Abstentions_t2  % Abs/Ins_t2   Année  Abs_nat_t1  Abs_nat_t2  \\\n",
       "0  415886.0         93130.0         22.39  2017.0   22.231967   25.432557   \n",
       "1  526190.0        128800.0         24.48  2017.0   22.231967   25.432557   \n",
       "2  272385.0         57585.0         21.14  2017.0   22.231967   25.432557   \n",
       "3  951148.0        225177.0         23.68  2017.0   22.231967   25.432557   \n",
       "4  881558.0        228009.0         25.88  2017.0   22.231967   25.432557   \n",
       "\n",
       "     Abs_nat  % Abs/Ins  Hommes actifs ayant un emplois  Hommes chômeurs  \\\n",
       "0  23.832262     20.995                   113128.924731      9710.095614   \n",
       "1  23.832262     22.740                   103459.349176     11301.288792   \n",
       "2  23.832262     19.960                    77478.125904     13467.847594   \n",
       "3  23.832262     21.170                    72900.805673      6006.829282   \n",
       "4  23.832262     23.335                    85678.258394      9915.171930   \n",
       "\n",
       "   Femmes actifs ayant un emploi  Femmes chomeurs  pop active ayant un emploi  \\\n",
       "0                  102942.302884     11837.796424               108035.613808   \n",
       "1                   99163.503139     13741.282958               101311.426157   \n",
       "2                   69181.374652     13684.273197                73329.750278   \n",
       "3                   67701.750400      7079.159822                70301.278037   \n",
       "4                   80875.471851     11474.043492                83276.865122   \n",
       "\n",
       "   pop chômeurs  \n",
       "0  10773.946019  \n",
       "1  12521.285875  \n",
       "2  13576.060396  \n",
       "3   6542.994552  \n",
       "4  10694.607711  "
      ]
     },
     "execution_count": 60,
     "metadata": {},
     "output_type": "execute_result"
    }
   ],
   "source": [
    "dep_abs['pop active ayant un emploi'] = dep_abs[['Hommes actifs ayant un emplois', 'Femmes actifs ayant un emploi']].mean(axis = 1)\n",
    "dep_abs['pop chômeurs'] = dep_abs[['Hommes chômeurs', 'Femmes chomeurs']].mean(axis = 1)\n",
    "dep_abs.head()"
   ]
  },
  {
   "cell_type": "markdown",
   "id": "159febe6",
   "metadata": {},
   "source": [
    "### Création d'un dataframe pour la population par grande classe d'âge (très important)"
   ]
  },
  {
   "cell_type": "code",
   "execution_count": 61,
   "id": "a39d50a4",
   "metadata": {},
   "outputs": [
    {
     "name": "stdout",
     "output_type": "stream",
     "text": [
      "['À savoir', '2021', '2020', '2019', '2018', '2017', '2016', '2015', '2014', '2013', '2012', '2011', '2010', '2009', '2008', '2007', 'Feuil1', '2006', '2005', '2004', '2003', '2002', '2001', '2000', '1999', '1998', '1997', '1996', '1995', '1994', '1993', '1992', '1991', '1990', '1989', '1988', '1987', '1986', '1985', '1984', '1983', '1982', '1981', '1980', '1979', '1978', '1977', '1976', '1975']\n"
     ]
    }
   ],
   "source": [
    "age_pop_dep = pd.read_excel('age_pop_dep.xlsx')\n",
    "xls_1 = pd.ExcelFile('age_pop_dep.xlsx')\n",
    "print(xls_1.sheet_names)"
   ]
  },
  {
   "cell_type": "code",
   "execution_count": 62,
   "id": "5406ac23",
   "metadata": {},
   "outputs": [
    {
     "data": {
      "text/html": [
       "<div>\n",
       "<style scoped>\n",
       "    .dataframe tbody tr th:only-of-type {\n",
       "        vertical-align: middle;\n",
       "    }\n",
       "\n",
       "    .dataframe tbody tr th {\n",
       "        vertical-align: top;\n",
       "    }\n",
       "\n",
       "    .dataframe thead th {\n",
       "        text-align: right;\n",
       "    }\n",
       "</style>\n",
       "<table border=\"1\" class=\"dataframe\">\n",
       "  <thead>\n",
       "    <tr style=\"text-align: right;\">\n",
       "      <th></th>\n",
       "      <th>Départements</th>\n",
       "      <th>Unnamed: 1</th>\n",
       "      <th>Ensemble</th>\n",
       "      <th>Unnamed: 3</th>\n",
       "      <th>Unnamed: 4</th>\n",
       "      <th>Unnamed: 5</th>\n",
       "      <th>Unnamed: 6</th>\n",
       "      <th>Unnamed: 7</th>\n",
       "      <th>Hommes</th>\n",
       "      <th>Unnamed: 9</th>\n",
       "      <th>Unnamed: 10</th>\n",
       "      <th>Unnamed: 11</th>\n",
       "      <th>Unnamed: 12</th>\n",
       "      <th>Unnamed: 13</th>\n",
       "      <th>Femmes</th>\n",
       "      <th>Unnamed: 15</th>\n",
       "      <th>Unnamed: 16</th>\n",
       "      <th>Unnamed: 17</th>\n",
       "      <th>Unnamed: 18</th>\n",
       "      <th>Unnamed: 19</th>\n",
       "    </tr>\n",
       "  </thead>\n",
       "  <tbody>\n",
       "    <tr>\n",
       "      <th>0</th>\n",
       "      <td>NaN</td>\n",
       "      <td>NaN</td>\n",
       "      <td>0 à 19 ans</td>\n",
       "      <td>20 à 39 ans</td>\n",
       "      <td>40 à 59 ans</td>\n",
       "      <td>60 à 74 ans</td>\n",
       "      <td>75 ans et plus</td>\n",
       "      <td>Total</td>\n",
       "      <td>0 à 19 ans</td>\n",
       "      <td>20 à 39 ans</td>\n",
       "      <td>40 à 59 ans</td>\n",
       "      <td>60 à 74 ans</td>\n",
       "      <td>75 ans et plus</td>\n",
       "      <td>Total</td>\n",
       "      <td>0 à 19 ans</td>\n",
       "      <td>20 à 39 ans</td>\n",
       "      <td>40 à 59 ans</td>\n",
       "      <td>60 à 74 ans</td>\n",
       "      <td>75 ans et plus</td>\n",
       "      <td>Total</td>\n",
       "    </tr>\n",
       "    <tr>\n",
       "      <th>1</th>\n",
       "      <td>01</td>\n",
       "      <td>Ain</td>\n",
       "      <td>146640</td>\n",
       "      <td>145248</td>\n",
       "      <td>146194</td>\n",
       "      <td>62718</td>\n",
       "      <td>34816</td>\n",
       "      <td>535616</td>\n",
       "      <td>75084</td>\n",
       "      <td>73352</td>\n",
       "      <td>73898</td>\n",
       "      <td>30174</td>\n",
       "      <td>12797</td>\n",
       "      <td>265305</td>\n",
       "      <td>71556</td>\n",
       "      <td>71896</td>\n",
       "      <td>72296</td>\n",
       "      <td>32544</td>\n",
       "      <td>22019</td>\n",
       "      <td>270311</td>\n",
       "    </tr>\n",
       "    <tr>\n",
       "      <th>2</th>\n",
       "      <td>02</td>\n",
       "      <td>Aisne</td>\n",
       "      <td>145835</td>\n",
       "      <td>138617</td>\n",
       "      <td>143369</td>\n",
       "      <td>69349</td>\n",
       "      <td>39614</td>\n",
       "      <td>536784</td>\n",
       "      <td>74255</td>\n",
       "      <td>69835</td>\n",
       "      <td>72156</td>\n",
       "      <td>31407</td>\n",
       "      <td>14189</td>\n",
       "      <td>261842</td>\n",
       "      <td>71580</td>\n",
       "      <td>68782</td>\n",
       "      <td>71213</td>\n",
       "      <td>37942</td>\n",
       "      <td>25425</td>\n",
       "      <td>274942</td>\n",
       "    </tr>\n",
       "    <tr>\n",
       "      <th>3</th>\n",
       "      <td>03</td>\n",
       "      <td>Allier</td>\n",
       "      <td>72876</td>\n",
       "      <td>80217</td>\n",
       "      <td>94450</td>\n",
       "      <td>58224</td>\n",
       "      <td>38588</td>\n",
       "      <td>344355</td>\n",
       "      <td>37362</td>\n",
       "      <td>40573</td>\n",
       "      <td>46755</td>\n",
       "      <td>26366</td>\n",
       "      <td>14279</td>\n",
       "      <td>165335</td>\n",
       "      <td>35514</td>\n",
       "      <td>39644</td>\n",
       "      <td>47695</td>\n",
       "      <td>31858</td>\n",
       "      <td>24309</td>\n",
       "      <td>179020</td>\n",
       "    </tr>\n",
       "    <tr>\n",
       "      <th>4</th>\n",
       "      <td>04</td>\n",
       "      <td>Alpes-de-Haute-Provence</td>\n",
       "      <td>34434</td>\n",
       "      <td>33536</td>\n",
       "      <td>40312</td>\n",
       "      <td>23687</td>\n",
       "      <td>13781</td>\n",
       "      <td>145750</td>\n",
       "      <td>17741</td>\n",
       "      <td>16584</td>\n",
       "      <td>20105</td>\n",
       "      <td>11364</td>\n",
       "      <td>5309</td>\n",
       "      <td>71103</td>\n",
       "      <td>16693</td>\n",
       "      <td>16952</td>\n",
       "      <td>20207</td>\n",
       "      <td>12323</td>\n",
       "      <td>8472</td>\n",
       "      <td>74647</td>\n",
       "    </tr>\n",
       "  </tbody>\n",
       "</table>\n",
       "</div>"
      ],
      "text/plain": [
       "  Départements               Unnamed: 1    Ensemble   Unnamed: 3   Unnamed: 4  \\\n",
       "0          NaN                      NaN  0 à 19 ans  20 à 39 ans  40 à 59 ans   \n",
       "1           01                      Ain      146640       145248       146194   \n",
       "2           02                    Aisne      145835       138617       143369   \n",
       "3           03                   Allier       72876        80217        94450   \n",
       "4           04  Alpes-de-Haute-Provence       34434        33536        40312   \n",
       "\n",
       "    Unnamed: 5      Unnamed: 6 Unnamed: 7      Hommes   Unnamed: 9  \\\n",
       "0  60 à 74 ans  75 ans et plus      Total  0 à 19 ans  20 à 39 ans   \n",
       "1        62718           34816     535616       75084        73352   \n",
       "2        69349           39614     536784       74255        69835   \n",
       "3        58224           38588     344355       37362        40573   \n",
       "4        23687           13781     145750       17741        16584   \n",
       "\n",
       "   Unnamed: 10  Unnamed: 11     Unnamed: 12 Unnamed: 13      Femmes  \\\n",
       "0  40 à 59 ans  60 à 74 ans  75 ans et plus       Total  0 à 19 ans   \n",
       "1        73898        30174           12797      265305       71556   \n",
       "2        72156        31407           14189      261842       71580   \n",
       "3        46755        26366           14279      165335       35514   \n",
       "4        20105        11364            5309       71103       16693   \n",
       "\n",
       "   Unnamed: 15  Unnamed: 16  Unnamed: 17     Unnamed: 18 Unnamed: 19  \n",
       "0  20 à 39 ans  40 à 59 ans  60 à 74 ans  75 ans et plus       Total  \n",
       "1        71896        72296        32544           22019      270311  \n",
       "2        68782        71213        37942           25425      274942  \n",
       "3        39644        47695        31858           24309      179020  \n",
       "4        16952        20207        12323            8472       74647  "
      ]
     },
     "execution_count": 62,
     "metadata": {},
     "output_type": "execute_result"
    }
   ],
   "source": [
    "age_pop_dep_2017 = pd.read_excel('age_pop_dep.xlsx', sheet_name = \"2017\")\n",
    "age_pop_dep_2012 = pd.read_excel('age_pop_dep.xlsx', sheet_name = \"2012\")\n",
    "age_pop_dep_2007 = pd.read_excel('age_pop_dep.xlsx', sheet_name = \"2007\")\n",
    "age_pop_dep_2002 = pd.read_excel('age_pop_dep.xlsx', sheet_name = \"2002\")\n",
    "age_pop_dep_2002.head()\n",
    "# galère faudrait réussir à faire un multi index"
   ]
  },
  {
   "cell_type": "markdown",
   "id": "669b021d",
   "metadata": {},
   "source": [
    "### Création d'un dataframe sur les résultats par bureau de vote dans chaque département"
   ]
  },
  {
   "cell_type": "code",
   "execution_count": 63,
   "id": "b8957677",
   "metadata": {},
   "outputs": [
    {
     "name": "stderr",
     "output_type": "stream",
     "text": [
      "/opt/anaconda3/lib/python3.8/site-packages/IPython/core/interactiveshell.py:3165: DtypeWarning: Columns (1,4) have mixed types.Specify dtype option on import or set low_memory=False.\n",
      "  has_raised = await self.run_ast_nodes(code_ast.body, cell_name,\n",
      "/opt/anaconda3/lib/python3.8/site-packages/IPython/core/interactiveshell.py:3165: DtypeWarning: Columns (1,6) have mixed types.Specify dtype option on import or set low_memory=False.\n",
      "  has_raised = await self.run_ast_nodes(code_ast.body, cell_name,\n"
     ]
    }
   ],
   "source": [
    "bv_t1t2_2002 = pd.read_csv('bv_t1t2_2002', delimiter = ';')\n",
    "bv_t1t2_2007 = pd.read_csv('bv_t1t2_2007', delimiter = ';')"
   ]
  },
  {
   "cell_type": "code",
   "execution_count": 64,
   "id": "30c6f6a9",
   "metadata": {},
   "outputs": [],
   "source": [
    "bv_t1t2_2007 = bv_t1t2_2007.rename_axis('Vrai tour').reset_index()\n",
    "bv_t1t2_2002 = bv_t1t2_2002.rename_axis('Vrai tour').reset_index()"
   ]
  },
  {
   "cell_type": "code",
   "execution_count": 65,
   "id": "623b5599",
   "metadata": {},
   "outputs": [],
   "source": [
    "bv_t1t2_2007.rename(columns = {'Tour' : 'Code département', 'Coded�partement' : 'Code commune', 'Codecommune' : 'Nom commune', 'Nomdelacommune,N�bureaudevote' : 'Numéro bureau de vote'}, inplace = True)\n",
    "bv_t1t2_2002.rename(columns = {'Tour' : 'Code département', 'Coded�partement' : 'Code commune', 'Codecommune' : 'Nom commune', 'Nomdelacommune,N�bureaudevote' : 'Numéro bureau de vote'}, inplace = True)"
   ]
  },
  {
   "cell_type": "code",
   "execution_count": 66,
   "id": "28cc78e3",
   "metadata": {},
   "outputs": [],
   "source": [
    "bv_t1t2_2007.rename(columns = {'Vrai tour' : 'Tour'}, inplace = True)\n",
    "bv_t1t2_2002.rename(columns = {'Vrai tour' : 'Tour'}, inplace = True)"
   ]
  },
  {
   "cell_type": "code",
   "execution_count": 67,
   "id": "ea26c1a8",
   "metadata": {},
   "outputs": [
    {
     "name": "stdout",
     "output_type": "stream",
     "text": [
      "<class 'pandas.core.frame.DataFrame'>\n",
      "RangeIndex: 918638 entries, 0 to 918637\n",
      "Data columns (total 13 columns):\n",
      " #   Column                 Non-Null Count   Dtype \n",
      "---  ------                 --------------   ----- \n",
      " 0   Tour                   918638 non-null  int64 \n",
      " 1   Code département       918638 non-null  object\n",
      " 2   Code commune           918638 non-null  int64 \n",
      " 3   Nom commune            918638 non-null  object\n",
      " 4   Numéro bureau de vote  918638 non-null  object\n",
      " 5   Inscrits               918638 non-null  int64 \n",
      " 6   Votants                918638 non-null  int64 \n",
      " 7   Exprim�s               918638 non-null  int64 \n",
      " 8   N�deputducandidat      918638 non-null  int64 \n",
      " 9   Nomcandidat            918638 non-null  object\n",
      " 10  Pr�nomcandidat         918638 non-null  object\n",
      " 11  Codesiglecandidat      918638 non-null  object\n",
      " 12  Nombredevoixcandidat   918638 non-null  int64 \n",
      "dtypes: int64(7), object(6)\n",
      "memory usage: 91.1+ MB\n"
     ]
    }
   ],
   "source": [
    "bv_t1t2_2007.info()"
   ]
  },
  {
   "cell_type": "code",
   "execution_count": 68,
   "id": "bc432a7c",
   "metadata": {},
   "outputs": [],
   "source": [
    "bv_t1t2_2007['Code département'] = bv_t1t2_2007['Code département'].astype('string')"
   ]
  },
  {
   "cell_type": "code",
   "execution_count": 69,
   "id": "894813da",
   "metadata": {},
   "outputs": [
    {
     "data": {
      "text/plain": [
       "<StringArray>\n",
       "[ '1',  '2',  '3',  '4',  '5',  '6',  '7',  '8',  '9', '10',\n",
       " ...\n",
       " '91', '92', '93', '94', '95', 'ZA', 'ZB', 'ZC', 'ZD', 'ZM']\n",
       "Length: 101, dtype: string"
      ]
     },
     "execution_count": 69,
     "metadata": {},
     "output_type": "execute_result"
    }
   ],
   "source": [
    "bv_t1t2_2007['Code département'].unique()[0:101]"
   ]
  },
  {
   "cell_type": "code",
   "execution_count": 70,
   "id": "feee8247",
   "metadata": {},
   "outputs": [],
   "source": [
    "dic_2007 = {}\n",
    "for code in bv_t1t2_2007['Code département'].unique()[0:101]:\n",
    "    dic_2007[code] = len(bv_t1t2_2007[bv_t1t2_2007['Code département'] == code]['Numéro bureau de vote'].value_counts())"
   ]
  },
  {
   "cell_type": "code",
   "execution_count": 71,
   "id": "64a1bf73",
   "metadata": {},
   "outputs": [],
   "source": [
    "bv_t1t2_2002['Code département'] = bv_t1t2_2002['Code département'].astype('string')"
   ]
  },
  {
   "cell_type": "code",
   "execution_count": 72,
   "id": "2596ad9f",
   "metadata": {},
   "outputs": [
    {
     "data": {
      "text/plain": [
       "<StringArray>\n",
       "[ '1',  '2',  '3',  '4',  '5',  '6',  '7',  '8',  '9', '10', '11', '12', '13',\n",
       " '14', '15', '16', '17', '18', '19', '2A', '2B', '21', '22', '23', '24', '25',\n",
       " '26', '27', '28', '29', '30', '31', '32', '33', '34', '35', '36', '37', '38',\n",
       " '39', '40', '41', '42', '43', '44', '45', '46', '47', '48', '49', '50', '51',\n",
       " '52', '53', '54', '55', '56', '57', '58', '59', '60', '61', '62', '63', '64',\n",
       " '65', '66', '67', '68', '69', '70', '71', '72', '73', '74', '75', '76', '77',\n",
       " '78', '79', '80', '81', '82', '83', '84', '85', '86', '87', '88', '89', '90',\n",
       " '91', '92', '93', '94', '95', 'ZA', 'ZB', 'ZC', 'ZD']\n",
       "Length: 100, dtype: string"
      ]
     },
     "execution_count": 72,
     "metadata": {},
     "output_type": "execute_result"
    }
   ],
   "source": [
    "bv_t1t2_2002['Code département'].unique()[0:100]"
   ]
  },
  {
   "cell_type": "code",
   "execution_count": 145,
   "id": "d24b3c2f",
   "metadata": {},
   "outputs": [],
   "source": [
    "dic_2002 = {}\n",
    "for code in bv_t1t2_2002['Code département'].unique()[0:100]:\n",
    "    dic_2002[code] = len(bv_t1t2_2002[bv_t1t2_2002['Code département'] == code]['Numéro bureau de vote'].value_counts())\n",
    "dic_2002['ZM'] = 'NaN'"
   ]
  },
  {
   "cell_type": "code",
   "execution_count": 112,
   "id": "52e5e6db",
   "metadata": {},
   "outputs": [
    {
     "name": "stderr",
     "output_type": "stream",
     "text": [
      "/opt/anaconda3/lib/python3.8/site-packages/IPython/core/interactiveshell.py:3165: DtypeWarning: Columns (0,6) have mixed types.Specify dtype option on import or set low_memory=False.\n",
      "  has_raised = await self.run_ast_nodes(code_ast.body, cell_name,\n"
     ]
    }
   ],
   "source": [
    "bv_t2_2017 = pd.read_csv('bv_t2_2017', delimiter = ';')"
   ]
  },
  {
   "cell_type": "code",
   "execution_count": 115,
   "id": "6cf8e6d1",
   "metadata": {},
   "outputs": [],
   "source": [
    "bv_t2_2017.drop(['Code du d�partement', 'Libell� du d�partement',\n",
    "       'Code de la circonscription', 'Libell� de la circonscription',\n",
    "       'Code de la commune', 'Libell� de la commune', 'Code du b.vote',\n",
    "       'Inscrits', 'Abstentions', '% Abs/Ins', 'Votants', '% Vot/Ins',\n",
    "       'Blancs', '% Blancs/Ins', '% Blancs/Vot', 'Nuls', '% Nuls/Ins',\n",
    "       '% Nuls/Vot', 'Exprim�s', '% Exp/Ins', '% Exp/Vot', 'N�Panneau', 'Sexe',\n",
    "       'Nom', 'Pr�nom', 'Voix', '% Voix/Ins', '% Voix/Exp'], axis = 1, inplace = True)"
   ]
  },
  {
   "cell_type": "code",
   "execution_count": 116,
   "id": "44de64a6",
   "metadata": {},
   "outputs": [],
   "source": [
    "bv_t2_2017 = bv_t2_2017.reset_index()"
   ]
  },
  {
   "cell_type": "code",
   "execution_count": 130,
   "id": "ecb4cb49",
   "metadata": {},
   "outputs": [],
   "source": [
    "bv_t2_2017.rename(columns = {'level_0' : 'Code département', 'level_1':'Libellé département', 'level_2':'Numéro circonscription',\n",
    "                            'level_3':'Nom circonscription', 'level_4':'Numéro commune', 'level_5':'Nom commun', 'level_6':'Numéro bv'}, inplace = True)"
   ]
  },
  {
   "cell_type": "code",
   "execution_count": 131,
   "id": "82a37ae8",
   "metadata": {},
   "outputs": [
    {
     "data": {
      "text/html": [
       "<div>\n",
       "<style scoped>\n",
       "    .dataframe tbody tr th:only-of-type {\n",
       "        vertical-align: middle;\n",
       "    }\n",
       "\n",
       "    .dataframe tbody tr th {\n",
       "        vertical-align: top;\n",
       "    }\n",
       "\n",
       "    .dataframe thead th {\n",
       "        text-align: right;\n",
       "    }\n",
       "</style>\n",
       "<table border=\"1\" class=\"dataframe\">\n",
       "  <thead>\n",
       "    <tr style=\"text-align: right;\">\n",
       "      <th></th>\n",
       "      <th>Code département</th>\n",
       "      <th>Libellé département</th>\n",
       "      <th>Numéro circonscription</th>\n",
       "      <th>Nom circonscription</th>\n",
       "      <th>Numéro commune</th>\n",
       "      <th>Nom commun</th>\n",
       "      <th>Numéro bv</th>\n",
       "    </tr>\n",
       "  </thead>\n",
       "  <tbody>\n",
       "    <tr>\n",
       "      <th>0</th>\n",
       "      <td>01</td>\n",
       "      <td>Ain</td>\n",
       "      <td>4</td>\n",
       "      <td>4�me circonscription</td>\n",
       "      <td>1</td>\n",
       "      <td>L'Abergement-Cl�menciat</td>\n",
       "      <td>0001</td>\n",
       "    </tr>\n",
       "    <tr>\n",
       "      <th>1</th>\n",
       "      <td>01</td>\n",
       "      <td>Ain</td>\n",
       "      <td>5</td>\n",
       "      <td>5�me circonscription</td>\n",
       "      <td>2</td>\n",
       "      <td>L'Abergement-de-Varey</td>\n",
       "      <td>0001</td>\n",
       "    </tr>\n",
       "    <tr>\n",
       "      <th>2</th>\n",
       "      <td>01</td>\n",
       "      <td>Ain</td>\n",
       "      <td>5</td>\n",
       "      <td>5�me circonscription</td>\n",
       "      <td>4</td>\n",
       "      <td>Amb�rieu-en-Bugey</td>\n",
       "      <td>0001</td>\n",
       "    </tr>\n",
       "    <tr>\n",
       "      <th>3</th>\n",
       "      <td>01</td>\n",
       "      <td>Ain</td>\n",
       "      <td>5</td>\n",
       "      <td>5�me circonscription</td>\n",
       "      <td>4</td>\n",
       "      <td>Amb�rieu-en-Bugey</td>\n",
       "      <td>0002</td>\n",
       "    </tr>\n",
       "    <tr>\n",
       "      <th>4</th>\n",
       "      <td>01</td>\n",
       "      <td>Ain</td>\n",
       "      <td>5</td>\n",
       "      <td>5�me circonscription</td>\n",
       "      <td>4</td>\n",
       "      <td>Amb�rieu-en-Bugey</td>\n",
       "      <td>0003</td>\n",
       "    </tr>\n",
       "  </tbody>\n",
       "</table>\n",
       "</div>"
      ],
      "text/plain": [
       "  Code département Libellé département  Numéro circonscription  \\\n",
       "0               01                 Ain                       4   \n",
       "1               01                 Ain                       5   \n",
       "2               01                 Ain                       5   \n",
       "3               01                 Ain                       5   \n",
       "4               01                 Ain                       5   \n",
       "\n",
       "    Nom circonscription  Numéro commune               Nom commun Numéro bv  \n",
       "0  4�me circonscription               1  L'Abergement-Cl�menciat      0001  \n",
       "1  5�me circonscription               2    L'Abergement-de-Varey      0001  \n",
       "2  5�me circonscription               4        Amb�rieu-en-Bugey      0001  \n",
       "3  5�me circonscription               4        Amb�rieu-en-Bugey      0002  \n",
       "4  5�me circonscription               4        Amb�rieu-en-Bugey      0003  "
      ]
     },
     "execution_count": 131,
     "metadata": {},
     "output_type": "execute_result"
    }
   ],
   "source": []
  },
  {
   "cell_type": "code",
   "execution_count": 138,
   "id": "8179ced5",
   "metadata": {},
   "outputs": [],
   "source": [
    "bv_t2_2017['Code département'] = bv_t2_2017['Code département'].astype('string')"
   ]
  },
  {
   "cell_type": "code",
   "execution_count": 142,
   "id": "87cc2410",
   "metadata": {},
   "outputs": [
    {
     "data": {
      "text/plain": [
       "<StringArray>\n",
       "['01', '02', '03', '04', '05', '06', '07', '08', '09', '10',\n",
       " ...\n",
       " '91', '92', '93', '94', '95', 'ZA', 'ZB', 'ZC', 'ZD', 'ZM']\n",
       "Length: 101, dtype: string"
      ]
     },
     "execution_count": 142,
     "metadata": {},
     "output_type": "execute_result"
    }
   ],
   "source": [
    "bv_t2_2017['Code département'].unique()[0:101]"
   ]
  },
  {
   "cell_type": "code",
   "execution_count": 143,
   "id": "247b1b74",
   "metadata": {},
   "outputs": [],
   "source": [
    "dic_2017 = {}\n",
    "for code in bv_t2_2017['Code département'].unique()[0:101]:\n",
    "    dic_2017[code] = len(bv_t2_2017[bv_t2_2017['Code département'] == code]['Numéro bv'].value_counts())"
   ]
  },
  {
   "cell_type": "code",
   "execution_count": 167,
   "id": "2e645527",
   "metadata": {},
   "outputs": [
    {
     "name": "stderr",
     "output_type": "stream",
     "text": [
      "/opt/anaconda3/lib/python3.8/site-packages/IPython/core/interactiveshell.py:3165: DtypeWarning: Columns (1,6) have mixed types.Specify dtype option on import or set low_memory=False.\n",
      "  has_raised = await self.run_ast_nodes(code_ast.body, cell_name,\n"
     ]
    }
   ],
   "source": [
    "bv_t1t2_2012 = pd.read_csv('bv_t1t2_2012', delimiter = ';')"
   ]
  },
  {
   "cell_type": "code",
   "execution_count": 168,
   "id": "8a54f70c",
   "metadata": {},
   "outputs": [
    {
     "data": {
      "text/html": [
       "<div>\n",
       "<style scoped>\n",
       "    .dataframe tbody tr th:only-of-type {\n",
       "        vertical-align: middle;\n",
       "    }\n",
       "\n",
       "    .dataframe tbody tr th {\n",
       "        vertical-align: top;\n",
       "    }\n",
       "\n",
       "    .dataframe thead th {\n",
       "        text-align: right;\n",
       "    }\n",
       "</style>\n",
       "<table border=\"1\" class=\"dataframe\">\n",
       "  <thead>\n",
       "    <tr style=\"text-align: right;\">\n",
       "      <th></th>\n",
       "      <th>level_0</th>\n",
       "      <th>level_1</th>\n",
       "      <th>Tour</th>\n",
       "      <th>Coded�partement</th>\n",
       "      <th>Codecommune</th>\n",
       "      <th>Nomdelacommune</th>\n",
       "      <th>N�bureaudevote</th>\n",
       "      <th>Inscrits</th>\n",
       "      <th>Votants</th>\n",
       "      <th>Exprim�s</th>\n",
       "      <th>N�deputducandidat</th>\n",
       "      <th>Nomcandidat</th>\n",
       "      <th>Pr�nomcandidat</th>\n",
       "      <th>Codesiglecandidat</th>\n",
       "      <th>Nombredevoixcandidat</th>\n",
       "    </tr>\n",
       "  </thead>\n",
       "  <tbody>\n",
       "    <tr>\n",
       "      <th>0</th>\n",
       "      <td>1</td>\n",
       "      <td>ZA</td>\n",
       "      <td>101</td>\n",
       "      <td>Les Abymes</td>\n",
       "      <td>1</td>\n",
       "      <td>1</td>\n",
       "      <td>1</td>\n",
       "      <td>476</td>\n",
       "      <td>266</td>\n",
       "      <td>249</td>\n",
       "      <td>2</td>\n",
       "      <td>JOLY</td>\n",
       "      <td>Eva</td>\n",
       "      <td>JOLY</td>\n",
       "      <td>7</td>\n",
       "    </tr>\n",
       "    <tr>\n",
       "      <th>1</th>\n",
       "      <td>1</td>\n",
       "      <td>ZA</td>\n",
       "      <td>101</td>\n",
       "      <td>Les Abymes</td>\n",
       "      <td>1</td>\n",
       "      <td>1</td>\n",
       "      <td>1</td>\n",
       "      <td>476</td>\n",
       "      <td>266</td>\n",
       "      <td>249</td>\n",
       "      <td>3</td>\n",
       "      <td>LE PEN</td>\n",
       "      <td>Marine</td>\n",
       "      <td>LEPE</td>\n",
       "      <td>12</td>\n",
       "    </tr>\n",
       "    <tr>\n",
       "      <th>2</th>\n",
       "      <td>1</td>\n",
       "      <td>ZA</td>\n",
       "      <td>101</td>\n",
       "      <td>Les Abymes</td>\n",
       "      <td>1</td>\n",
       "      <td>1</td>\n",
       "      <td>1</td>\n",
       "      <td>476</td>\n",
       "      <td>266</td>\n",
       "      <td>249</td>\n",
       "      <td>4</td>\n",
       "      <td>SARKOZY</td>\n",
       "      <td>Nicolas</td>\n",
       "      <td>SARK</td>\n",
       "      <td>50</td>\n",
       "    </tr>\n",
       "    <tr>\n",
       "      <th>3</th>\n",
       "      <td>1</td>\n",
       "      <td>ZA</td>\n",
       "      <td>101</td>\n",
       "      <td>Les Abymes</td>\n",
       "      <td>1</td>\n",
       "      <td>1</td>\n",
       "      <td>1</td>\n",
       "      <td>476</td>\n",
       "      <td>266</td>\n",
       "      <td>249</td>\n",
       "      <td>5</td>\n",
       "      <td>M�LENCHON</td>\n",
       "      <td>Jean-Luc</td>\n",
       "      <td>MELE</td>\n",
       "      <td>11</td>\n",
       "    </tr>\n",
       "    <tr>\n",
       "      <th>4</th>\n",
       "      <td>1</td>\n",
       "      <td>ZA</td>\n",
       "      <td>101</td>\n",
       "      <td>Les Abymes</td>\n",
       "      <td>1</td>\n",
       "      <td>1</td>\n",
       "      <td>1</td>\n",
       "      <td>476</td>\n",
       "      <td>266</td>\n",
       "      <td>249</td>\n",
       "      <td>9</td>\n",
       "      <td>BAYROU</td>\n",
       "      <td>Fran�ois</td>\n",
       "      <td>BAYR</td>\n",
       "      <td>5</td>\n",
       "    </tr>\n",
       "  </tbody>\n",
       "</table>\n",
       "</div>"
      ],
      "text/plain": [
       "   level_0 level_1  Tour Coded�partement  Codecommune  Nomdelacommune  \\\n",
       "0        1      ZA   101      Les Abymes            1               1   \n",
       "1        1      ZA   101      Les Abymes            1               1   \n",
       "2        1      ZA   101      Les Abymes            1               1   \n",
       "3        1      ZA   101      Les Abymes            1               1   \n",
       "4        1      ZA   101      Les Abymes            1               1   \n",
       "\n",
       "  N�bureaudevote  Inscrits  Votants  Exprim�s  N�deputducandidat Nomcandidat  \\\n",
       "0              1       476      266       249                  2        JOLY   \n",
       "1              1       476      266       249                  3      LE PEN   \n",
       "2              1       476      266       249                  4     SARKOZY   \n",
       "3              1       476      266       249                  5   M�LENCHON   \n",
       "4              1       476      266       249                  9      BAYROU   \n",
       "\n",
       "  Pr�nomcandidat Codesiglecandidat  Nombredevoixcandidat  \n",
       "0            Eva              JOLY                     7  \n",
       "1         Marine              LEPE                    12  \n",
       "2        Nicolas              SARK                    50  \n",
       "3       Jean-Luc              MELE                    11  \n",
       "4       Fran�ois              BAYR                     5  "
      ]
     },
     "execution_count": 168,
     "metadata": {},
     "output_type": "execute_result"
    }
   ],
   "source": [
    "bv_t1t2_2012 = bv_t1t2_2012.reset_index()\n",
    "bv_t1t2_2012.head()"
   ]
  },
  {
   "cell_type": "code",
   "execution_count": 169,
   "id": "93ec4e4a",
   "metadata": {},
   "outputs": [
    {
     "data": {
      "text/plain": [
       "Index(['level_0', 'level_1', 'Tour', 'Coded�partement', 'Codecommune',\n",
       "       'Nomdelacommune', 'N�bureaudevote', 'Inscrits', 'Votants', 'Exprim�s',\n",
       "       'N�deputducandidat', 'Nomcandidat', 'Pr�nomcandidat',\n",
       "       'Codesiglecandidat', 'Nombredevoixcandidat'],\n",
       "      dtype='object')"
      ]
     },
     "execution_count": 169,
     "metadata": {},
     "output_type": "execute_result"
    }
   ],
   "source": [
    "bv_t1t2_2012.columns"
   ]
  },
  {
   "cell_type": "code",
   "execution_count": 170,
   "id": "8b3fea45",
   "metadata": {},
   "outputs": [],
   "source": [
    "bv_t1t2_2012.drop(['Codecommune',\n",
    "       'Nomdelacommune','Inscrits', 'Votants', 'Exprim�s',\n",
    "       'N�deputducandidat', 'Nomcandidat', 'Pr�nomcandidat',\n",
    "       'Codesiglecandidat', 'Nombredevoixcandidat'], axis = 1, inplace = True)"
   ]
  },
  {
   "cell_type": "code",
   "execution_count": 171,
   "id": "4cb68cbb",
   "metadata": {},
   "outputs": [
    {
     "data": {
      "text/html": [
       "<div>\n",
       "<style scoped>\n",
       "    .dataframe tbody tr th:only-of-type {\n",
       "        vertical-align: middle;\n",
       "    }\n",
       "\n",
       "    .dataframe tbody tr th {\n",
       "        vertical-align: top;\n",
       "    }\n",
       "\n",
       "    .dataframe thead th {\n",
       "        text-align: right;\n",
       "    }\n",
       "</style>\n",
       "<table border=\"1\" class=\"dataframe\">\n",
       "  <thead>\n",
       "    <tr style=\"text-align: right;\">\n",
       "      <th></th>\n",
       "      <th>level_0</th>\n",
       "      <th>level_1</th>\n",
       "      <th>Tour</th>\n",
       "      <th>Coded�partement</th>\n",
       "      <th>N�bureaudevote</th>\n",
       "    </tr>\n",
       "  </thead>\n",
       "  <tbody>\n",
       "    <tr>\n",
       "      <th>0</th>\n",
       "      <td>1</td>\n",
       "      <td>ZA</td>\n",
       "      <td>101</td>\n",
       "      <td>Les Abymes</td>\n",
       "      <td>1</td>\n",
       "    </tr>\n",
       "    <tr>\n",
       "      <th>1</th>\n",
       "      <td>1</td>\n",
       "      <td>ZA</td>\n",
       "      <td>101</td>\n",
       "      <td>Les Abymes</td>\n",
       "      <td>1</td>\n",
       "    </tr>\n",
       "    <tr>\n",
       "      <th>2</th>\n",
       "      <td>1</td>\n",
       "      <td>ZA</td>\n",
       "      <td>101</td>\n",
       "      <td>Les Abymes</td>\n",
       "      <td>1</td>\n",
       "    </tr>\n",
       "    <tr>\n",
       "      <th>3</th>\n",
       "      <td>1</td>\n",
       "      <td>ZA</td>\n",
       "      <td>101</td>\n",
       "      <td>Les Abymes</td>\n",
       "      <td>1</td>\n",
       "    </tr>\n",
       "    <tr>\n",
       "      <th>4</th>\n",
       "      <td>1</td>\n",
       "      <td>ZA</td>\n",
       "      <td>101</td>\n",
       "      <td>Les Abymes</td>\n",
       "      <td>1</td>\n",
       "    </tr>\n",
       "  </tbody>\n",
       "</table>\n",
       "</div>"
      ],
      "text/plain": [
       "   level_0 level_1  Tour Coded�partement N�bureaudevote\n",
       "0        1      ZA   101      Les Abymes              1\n",
       "1        1      ZA   101      Les Abymes              1\n",
       "2        1      ZA   101      Les Abymes              1\n",
       "3        1      ZA   101      Les Abymes              1\n",
       "4        1      ZA   101      Les Abymes              1"
      ]
     },
     "execution_count": 171,
     "metadata": {},
     "output_type": "execute_result"
    }
   ],
   "source": [
    "bv_t1t2_2012.head()"
   ]
  },
  {
   "cell_type": "code",
   "execution_count": 172,
   "id": "efb124be",
   "metadata": {},
   "outputs": [],
   "source": [
    "bv_t1t2_2012.rename(columns = {'level_0':'Tour', 'level_1':'Code département', 'Tour':'Code commune',\n",
    "                              'Coded�partement':'Nom commune', 'N�bureaudevote': 'Numéro bv'}, inplace = True)"
   ]
  },
  {
   "cell_type": "code",
   "execution_count": 173,
   "id": "761895f9",
   "metadata": {},
   "outputs": [
    {
     "data": {
      "text/html": [
       "<div>\n",
       "<style scoped>\n",
       "    .dataframe tbody tr th:only-of-type {\n",
       "        vertical-align: middle;\n",
       "    }\n",
       "\n",
       "    .dataframe tbody tr th {\n",
       "        vertical-align: top;\n",
       "    }\n",
       "\n",
       "    .dataframe thead th {\n",
       "        text-align: right;\n",
       "    }\n",
       "</style>\n",
       "<table border=\"1\" class=\"dataframe\">\n",
       "  <thead>\n",
       "    <tr style=\"text-align: right;\">\n",
       "      <th></th>\n",
       "      <th>Tour</th>\n",
       "      <th>Code département</th>\n",
       "      <th>Code commune</th>\n",
       "      <th>Nom commune</th>\n",
       "      <th>Numéro bv</th>\n",
       "    </tr>\n",
       "  </thead>\n",
       "  <tbody>\n",
       "    <tr>\n",
       "      <th>0</th>\n",
       "      <td>1</td>\n",
       "      <td>ZA</td>\n",
       "      <td>101</td>\n",
       "      <td>Les Abymes</td>\n",
       "      <td>1</td>\n",
       "    </tr>\n",
       "    <tr>\n",
       "      <th>1</th>\n",
       "      <td>1</td>\n",
       "      <td>ZA</td>\n",
       "      <td>101</td>\n",
       "      <td>Les Abymes</td>\n",
       "      <td>1</td>\n",
       "    </tr>\n",
       "    <tr>\n",
       "      <th>2</th>\n",
       "      <td>1</td>\n",
       "      <td>ZA</td>\n",
       "      <td>101</td>\n",
       "      <td>Les Abymes</td>\n",
       "      <td>1</td>\n",
       "    </tr>\n",
       "    <tr>\n",
       "      <th>3</th>\n",
       "      <td>1</td>\n",
       "      <td>ZA</td>\n",
       "      <td>101</td>\n",
       "      <td>Les Abymes</td>\n",
       "      <td>1</td>\n",
       "    </tr>\n",
       "    <tr>\n",
       "      <th>4</th>\n",
       "      <td>1</td>\n",
       "      <td>ZA</td>\n",
       "      <td>101</td>\n",
       "      <td>Les Abymes</td>\n",
       "      <td>1</td>\n",
       "    </tr>\n",
       "  </tbody>\n",
       "</table>\n",
       "</div>"
      ],
      "text/plain": [
       "   Tour Code département  Code commune Nom commune Numéro bv\n",
       "0     1               ZA           101  Les Abymes         1\n",
       "1     1               ZA           101  Les Abymes         1\n",
       "2     1               ZA           101  Les Abymes         1\n",
       "3     1               ZA           101  Les Abymes         1\n",
       "4     1               ZA           101  Les Abymes         1"
      ]
     },
     "execution_count": 173,
     "metadata": {},
     "output_type": "execute_result"
    }
   ],
   "source": [
    "bv_t1t2_2012.head()"
   ]
  },
  {
   "cell_type": "code",
   "execution_count": 174,
   "id": "f4acbb5a",
   "metadata": {},
   "outputs": [],
   "source": [
    "bv_t1t2_2012['Code département'] = bv_t1t2_2012['Code département'].astype('string')"
   ]
  },
  {
   "cell_type": "code",
   "execution_count": 179,
   "id": "ca3e46bc",
   "metadata": {},
   "outputs": [
    {
     "data": {
      "text/plain": [
       "pandas.core.arrays.string_.StringArray"
      ]
     },
     "execution_count": 179,
     "metadata": {},
     "output_type": "execute_result"
    }
   ],
   "source": [
    "type(bv_t1t2_2012['Code département'].unique())"
   ]
  },
  {
   "cell_type": "code",
   "execution_count": null,
   "id": "9e78a315",
   "metadata": {},
   "outputs": [],
   "source": [
    "list_dep = bv_t1t2_2012['Code département'].unique().tolist().remove('ZN', 'ZP', 'ZS', 'ZW', 'ZX')"
   ]
  }
 ],
 "metadata": {
  "kernelspec": {
   "display_name": "Python 3",
   "language": "python",
   "name": "python3"
  },
  "language_info": {
   "codemirror_mode": {
    "name": "ipython",
    "version": 3
   },
   "file_extension": ".py",
   "mimetype": "text/x-python",
   "name": "python",
   "nbconvert_exporter": "python",
   "pygments_lexer": "ipython3",
   "version": "3.8.8"
  }
 },
 "nbformat": 4,
 "nbformat_minor": 5
}
